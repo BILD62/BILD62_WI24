{
 "cells": [
  {
   "cell_type": "markdown",
   "metadata": {},
   "source": [
    "# Image & signal processing\n",
    "Here, we'll demonstrate how you could implement visualization & processing techniques for biological time series and images using Python.\n",
    "\n",
    "![](Data/leukaemia_smear.jpeg)\n",
    "\n",
    "### By the end of this notebook, you'll be able to:\n",
    "* Plot time series data with accurate timestamps\n",
    "* Filter 2D and 3D data using convolution\n",
    "* Display & manipulate images in Python\n",
    "* Apply different types of filters to images\n",
    "\n",
    "<hr>\n",
    "\n",
    "First, let's get setup..."
   ]
  },
  {
   "cell_type": "code",
   "execution_count": null,
   "metadata": {},
   "outputs": [],
   "source": [
    "# All of the lovely packages we need for today\n",
    "import scipy as sp\n",
    "import numpy as np\n",
    "import matplotlib.pyplot as plt\n",
    "\n",
    "# New package! Allows us to open URLs\n",
    "import urllib.request"
   ]
  },
  {
   "cell_type": "markdown",
   "metadata": {},
   "source": [
    "### Import and filter real sleep data\n",
    "\n",
    "The data we'll import here is a real 30-seconds extract of slow-wave sleep from a young individual, collected by the Walker Lab at UC Berkeley. This data was collected at 100 Hz from channel 'F3'. This sampling frequency is fine for EEG data, but wouldn't be enough for high frequency spiking data. That kind of data is typically sampled at 40 **kilo**Hz."
   ]
  },
  {
   "cell_type": "code",
   "execution_count": null,
   "metadata": {},
   "outputs": [],
   "source": [
    "# URL of data to download\n",
    "data_url = 'https://raphaelvallat.com/images/tutorials/bandpower/data.txt'\n",
    "\n",
    "# Get the data and save it as \"sleep_data.txt\"\n",
    "sleep_data, headers = urllib.request.urlretrieve(data_url, 'Data/sleep_data.txt')\n",
    "sleep_data"
   ]
  },
  {
   "cell_type": "markdown",
   "metadata": {},
   "source": [
    "<div class=\"alert alert-success\">\n",
    "    <b>Task</b>: Using a numpy function we've already learned, load your text file and assign it to \"data\". "
   ]
  },
  {
   "cell_type": "code",
   "execution_count": null,
   "metadata": {},
   "outputs": [],
   "source": [
    "# Load the .txt file\n"
   ]
  },
  {
   "cell_type": "markdown",
   "metadata": {},
   "source": [
    "First, we'll plot the raw data. The data provides the information about voltage for the y axis. However, we need to also create a time vector, so that we can accurately label the x axis. The [`np.arange()`](https://numpy.org/doc/stable/reference/generated/numpy.arange.html) method is very useful for this. We need to create a vector that is the same length as our data, but where each number is in terms of **time**, not **samples**. To do so, **we'll divide our vector by the sampling rate.**"
   ]
  },
  {
   "cell_type": "markdown",
   "metadata": {},
   "source": [
    "<div class=\"alert alert-success\">\n",
    "\n",
    "**Task**: Create a `time_vector` variable so that your data is plotted in seconds, not samples.\n",
    "\n",
    "</div>"
   ]
  },
  {
   "cell_type": "code",
   "execution_count": null,
   "metadata": {},
   "outputs": [],
   "source": [
    "# Define sampling frequency, num_samples, and time vector\n",
    "sampling_freq = 100 # sampling frequency, in Hz\n",
    "timestep = ...\n",
    "time_vector = ..."
   ]
  },
  {
   "cell_type": "markdown",
   "metadata": {},
   "source": [
    "<div class=\"alert alert-success\">\n",
    "\n",
    "**Task**: Plot your signal! You only need to add a line of code where it says `# ADD CODE HERE`\n",
    "\n",
    "</div>"
   ]
  },
  {
   "cell_type": "code",
   "execution_count": null,
   "metadata": {},
   "outputs": [],
   "source": [
    "# Plot the signal\n",
    "fig, ax = plt.subplots(figsize=(12, 4))\n",
    "\n",
    "# ADD CODE HERE\n",
    "\n",
    "plt.xlabel('Time (seconds)')\n",
    "plt.ylabel('Voltage')\n",
    "plt.title('N3 sleep EEG data (F3)')\n",
    "plt.show()"
   ]
  },
  {
   "cell_type": "markdown",
   "metadata": {},
   "source": [
    "### Filtering a signal with convolution\n",
    "Let's start with a simple step signal (left) which we'll add some noise to (right)."
   ]
  },
  {
   "cell_type": "code",
   "execution_count": null,
   "metadata": {},
   "outputs": [],
   "source": [
    "step_signal = np.zeros(100) # Create a 1D array of all 0s\n",
    "step_signal[50:] = 1        # Set 50: to 1\n",
    "\n",
    "fig, ax = plt.subplots(1,2,figsize=(10,4))\n",
    "ax[0].plot(step_signal)\n",
    "\n",
    "# Create random signal\n",
    "np.random.seed(0) # Set the \"seed\" for randomness\n",
    "\n",
    "noisy_signal = (step_signal + np.random.normal(0, 0.35, step_signal.shape))\n",
    "ax[1].plot(noisy_signal)\n",
    "\n",
    "plt.show()"
   ]
  },
  {
   "cell_type": "markdown",
   "metadata": {},
   "source": [
    "If our goal is to cover something that looks more like the image on the left, we can **smooth** the signal. In the first line below, we'll take each point and average it by one datapoint to the left and one datapoint to the right, discarding the ends of the signal, where we can't do this operation."
   ]
  },
  {
   "cell_type": "code",
   "execution_count": null,
   "metadata": {},
   "outputs": [],
   "source": [
    "# Take the mean of neighboring datapoints\n",
    "smooth_signal = (noisy_signal[:-1] + noisy_signal[1:]) / 2.0\n",
    "\n",
    "plt.plot(smooth_signal)\n",
    "plt.show()"
   ]
  },
  {
   "cell_type": "markdown",
   "metadata": {},
   "source": [
    "Above, we're only averaging by one datapoint on each side. What if we average by 3 datapoints? Below, we'll do the following:\n",
    "1. Create an output array called `smooth_signal3`, of the same length as noisy_signal.\n",
    "2. At each element in `smooth_signal3` starting at point 1, and ending at point -2, place the average of the sum of: 1/3 of the element to the left of it in noisy_signal, 1/3 of the element at the same position, and 1/3 of the element to the right.\n",
    "3. Discard the leftmost and rightmost elements."
   ]
  },
  {
   "cell_type": "code",
   "execution_count": null,
   "metadata": {},
   "outputs": [],
   "source": [
    "# Generate our signal\n",
    "smooth_signal3 = (noisy_signal[:-2] + noisy_signal[1:-1] + noisy_signal[2:]) / 3\n",
    "\n",
    "plt.plot(smooth_signal, label='mean of 2')\n",
    "plt.plot(smooth_signal3, label='mean of 3')\n",
    "plt.legend(loc='upper left')\n",
    "plt.show()"
   ]
  },
  {
   "cell_type": "markdown",
   "metadata": {},
   "source": [
    "If we want to continue this, the first line of our code is going to continue to get longer, and there isn't a straightforward way to make this flexible for how many points we want to average. Thankfully, there's a name for what we're doing: **convolving**. This same concept, nearest-neighbor averages, can be expressed as a **convolution with an averaging kernel**.\n",
    "\n",
    "**Convolution** is the process of adding each element of the image to its local neighbors, weighted by the kernel. "
   ]
  },
  {
   "cell_type": "code",
   "execution_count": null,
   "metadata": {},
   "outputs": [],
   "source": [
    "# Same as above, using a convolution kernel\n",
    "# Neighboring pixels multiplied by 1/3 and summed\n",
    "\n",
    "# Create the \"kernel\". For 3, this creates an array that looks like [0.333,0.333,0.333]\n",
    "mean_kernel3 = np.full((3,), 1/3)\n",
    "\n",
    "# Smooth the signal by convolving it\n",
    "smooth_signal3p = np.convolve(noisy_signal, mean_kernel3, mode='valid')\n",
    "\n",
    "plt.plot(smooth_signal3p)\n",
    "plt.show()"
   ]
  },
  {
   "cell_type": "code",
   "execution_count": null,
   "metadata": {},
   "outputs": [],
   "source": [
    "# Check that they're equal!\n",
    "print('smooth_signal3 and smooth_signal3p are equal:',\n",
    "      np.allclose(smooth_signal3, smooth_signal3p))"
   ]
  },
  {
   "cell_type": "markdown",
   "metadata": {},
   "source": [
    "<div class=\"alert alert-success\">\n",
    "\n",
    "**Tasks**:\n",
    "    \n",
    "1. What happens if we convolve with a kernel of size 10? Also, do these arrays have the same # of data points? If not, why?\n",
    "2. Smooth our sleep recording with different kernel sizes and inspect.\n",
    "   \n",
    "</div>"
   ]
  },
  {
   "cell_type": "code",
   "execution_count": null,
   "metadata": {},
   "outputs": [],
   "source": [
    "# Try a kernel of size 10 here\n"
   ]
  },
  {
   "cell_type": "code",
   "execution_count": null,
   "metadata": {},
   "outputs": [],
   "source": [
    "# Smooth the sleep recording we imported above!\n"
   ]
  },
  {
   "cell_type": "markdown",
   "metadata": {},
   "source": [
    "## Images in Python\n",
    "Below, we'll use `mpimg.imread()` to read in an image file and [`plt.imshow()`](https://matplotlib.org/devdocs/api/_as_gen/matplotlib.pyplot.imshow.html) to show [our image](https://en.wikipedia.org/wiki/Cancer_cell#/media/File:Acute_lymphoblastic_leukaemia_smear.jpg)."
   ]
  },
  {
   "cell_type": "code",
   "execution_count": null,
   "metadata": {},
   "outputs": [],
   "source": [
    "import matplotlib.pyplot as plt\n",
    "import matplotlib.image as mpimg # New module to read in images\n",
    "\n",
    "cells = mpimg.imread('Data/leukaemia_smear.jpeg')\n",
    "plt.axis('off') # Turn axis ticks & labels off\n",
    "plt.imshow(cells)\n",
    "plt.show()"
   ]
  },
  {
   "cell_type": "markdown",
   "metadata": {},
   "source": [
    "We can work with our `cells` object just like we would any other object. Let's check its shape. "
   ]
  },
  {
   "cell_type": "code",
   "execution_count": null,
   "metadata": {},
   "outputs": [],
   "source": [
    "# Check cells shape\n",
    "cells.shape"
   ]
  },
  {
   "cell_type": "markdown",
   "metadata": {},
   "source": [
    "If the first and second value are the size, what is the third value?\n",
    "<div class=\"alert alert-success\">\n",
    "\n",
    "**Task**: Below, use only the first values in the third dimension to generate a different version of our image that is only based on the \"R\" luminance. Call this `cells_gray`.\n",
    "\n",
    "</div>"
   ]
  },
  {
   "cell_type": "code",
   "execution_count": null,
   "metadata": {},
   "outputs": [],
   "source": [
    "cells_gray = ..."
   ]
  },
  {
   "cell_type": "markdown",
   "metadata": {},
   "source": [
    "By default, matplotlib uses the viridis color map to plot a sequence of values (you can see the luminance at each pixel by showing the colorbar with `plt.colorbar()`).\n",
    "<div class=\"alert alert-success\">\n",
    "    \n",
    " **Task**. Change your image to a different colormamp using the `cmap` argument in `plt.imshow`. There are many [colormaps](https://matplotlib.org/stable/tutorials/colors/colormaps.html) -- try some below!\n",
    "    \n",
    "</div>"
   ]
  },
  {
   "cell_type": "code",
   "execution_count": null,
   "metadata": {},
   "outputs": [],
   "source": [
    "# Try your color maps here\n"
   ]
  },
  {
   "cell_type": "markdown",
   "metadata": {},
   "source": [
    "### Filtering images to smooth them\n",
    "In our signal processing tutorial above, we talked about convolving a signal with an averaging kernel to smooth the signal. We can apply similar logic to images. Let's start with a very simple image."
   ]
  },
  {
   "cell_type": "code",
   "execution_count": 7,
   "metadata": {},
   "outputs": [
    {
     "data": {
      "text/plain": [
       "array([[0., 0., 0., 0., 0., 0., 0.],\n",
       "       [0., 0., 0., 0., 0., 0., 0.],\n",
       "       [0., 0., 1., 1., 1., 0., 0.],\n",
       "       [0., 0., 1., 1., 1., 0., 0.],\n",
       "       [0., 0., 1., 1., 1., 0., 0.],\n",
       "       [0., 0., 0., 0., 0., 0., 0.],\n",
       "       [0., 0., 0., 0., 0., 0., 0.]])"
      ]
     },
     "execution_count": 7,
     "metadata": {},
     "output_type": "execute_result"
    }
   ],
   "source": [
    "bright_square = np.zeros((7, 7), dtype=float)\n",
    "bright_square[2:5, 2:5] = 1\n",
    "bright_square"
   ]
  },
  {
   "cell_type": "markdown",
   "metadata": {},
   "source": [
    "This gives the values above, and looks like this!"
   ]
  },
  {
   "cell_type": "code",
   "execution_count": null,
   "metadata": {},
   "outputs": [],
   "source": [
    "plt.imshow(bright_square,cmap='gray')\n",
    "plt.axis('off')\n",
    "plt.show()"
   ]
  },
  {
   "cell_type": "markdown",
   "metadata": {},
   "source": [
    "For our first example of a filter, consider the following filtering array, which we’ll call a “mean kernel”. For each pixel, a kernel defines which neighboring pixels to consider when filtering, and how much to weight those pixels."
   ]
  },
  {
   "cell_type": "code",
   "execution_count": null,
   "metadata": {},
   "outputs": [],
   "source": [
    "mean_kernel = np.full((3, 3), 1/9)\n",
    "\n",
    "print(mean_kernel)"
   ]
  },
  {
   "cell_type": "markdown",
   "metadata": {},
   "source": [
    "Now, let’s take our mean kernel and apply it to every pixel of the image.\n",
    "\n",
    "Applying a (linear) filter essentially means:\n",
    "\n",
    "1. Center a kernel on a pixel\n",
    "\n",
    "2. Multiply the pixels under that kernel by the values in the kernel\n",
    "\n",
    "3. Sum all the those results\n",
    "\n",
    "4. Replace the center pixel with the summed result\n",
    "\n",
    "This process is known as **convolution** (the same process we applied to a signal, but now in 3D!)"
   ]
  },
  {
   "cell_type": "code",
   "execution_count": null,
   "metadata": {},
   "outputs": [],
   "source": [
    "# Import image processing toolbox\n",
    "import scipy.ndimage as ndi\n",
    "\n",
    "# Set precision\n",
    "%precision 2 \n",
    "\n",
    "print(ndi.correlate(bright_square, mean_kernel))"
   ]
  },
  {
   "cell_type": "code",
   "execution_count": null,
   "metadata": {
    "scrolled": true
   },
   "outputs": [],
   "source": [
    "smooth_square = ndi.correlate(bright_square, mean_kernel)\n",
    "plt.imshow(smooth_square)\n",
    "plt.show()"
   ]
  },
  {
   "cell_type": "markdown",
   "metadata": {},
   "source": [
    "Below we'll show a short demo of what this looks like. If you're curious how this runs, you can dig into the `convolution_demo.py` file.\n",
    "\n",
    "**Tip for a6**: Note how we are importing and using this custom module!"
   ]
  },
  {
   "cell_type": "code",
   "execution_count": 10,
   "metadata": {},
   "outputs": [
    {
     "data": {
      "application/vnd.jupyter.widget-view+json": {
       "model_id": "062ac2c891554754853ab3668c6ef50b",
       "version_major": 2,
       "version_minor": 0
      },
      "text/plain": [
       "interactive(children=(IntSlider(value=0, description='i_step', max=48), Output()), _dom_classes=('widget-inter…"
      ]
     },
     "metadata": {},
     "output_type": "display_data"
    }
   ],
   "source": [
    "from Demos import convolution_demo\n",
    "\n",
    "convolution_demo.mean_filter_interactive_demo(bright_square);"
   ]
  },
  {
   "cell_type": "markdown",
   "metadata": {},
   "source": [
    "This kind of mean filter is a bit brute. Typically, we'd use a **Gaussian filter**, where the amount of filtering depends on the distance from the center point. Thankfully, we can do that using the filters module:"
   ]
  },
  {
   "cell_type": "code",
   "execution_count": null,
   "metadata": {},
   "outputs": [],
   "source": [
    "from skimage import filters\n",
    "\n",
    "gaussian_cells = filters.gaussian(cells_gray,3)\n",
    "\n",
    "plt.imshow(gaussian_cells)\n",
    "plt.show()"
   ]
  },
  {
   "cell_type": "markdown",
   "metadata": {},
   "source": [
    "### Edge filtering\n",
    "In biology, we often want to filter edges to identify different features within cells, or cells within a piece of tissue. To do so, we'll often use some sort of edge filtering. To give you an intuition for how edge filtering works, first consider taking our step function and convolving it with a filter that is [-1 0 1].\n",
    "\n",
    "**Note**: For technical signal processing reasons, convolutions actually occur “back to front” between the input array and the kernel. Correlations occur in the signal order, so we’ll use correlate from now on."
   ]
  },
  {
   "cell_type": "code",
   "execution_count": null,
   "metadata": {},
   "outputs": [],
   "source": [
    "# Recreate the step signal\n",
    "step_signal = np.zeros(100)\n",
    "step_signal[50:] = 1\n",
    "\n",
    "# Convolve it with a [-1 0 1] filter\n",
    "edge_filter = np.correlate(step_signal, np.array([-1, 0, 1]),mode='valid')\n",
    "\n",
    "plt.plot(step_signal, label='signal')\n",
    "plt.plot(edge_filter, linestyle='dashed', label='correlated')\n",
    "plt.legend(loc='upper left')\n",
    "plt.show()"
   ]
  },
  {
   "cell_type": "markdown",
   "metadata": {},
   "source": [
    "Whenever neighboring values are close, the filter response is close to 0. Right at the boundary of a step, we’re subtracting a small value from a large value and and get a spike in the response. This spike “identifies” our edge.\n",
    "\n",
    "Now, let's apply this to images. Below, we'll just apply one filter, in the vertical direction."
   ]
  },
  {
   "cell_type": "code",
   "execution_count": null,
   "metadata": {},
   "outputs": [],
   "source": [
    "vertical_kernel = np.array([\n",
    "    [-1],\n",
    "    [ 0],\n",
    "    [ 1],\n",
    "])\n",
    "\n",
    "horizontal_kernel = np.array([[-1,0,1]]) # Create a horizontal kernel\n",
    "\n",
    "gradient_vertical = ndi.correlate(cells_gray.astype(float),vertical_kernel)\n",
    "gradient_horizontal = ndi.correlate(cells_gray.astype(float),horizontal_kernel)\n",
    "\n",
    "fig, ax = plt.subplots(1,2,figsize=(10,5))\n",
    "ax[0].axis('off')\n",
    "ax[1].axis('off')\n",
    "ax[0].imshow(gradient_vertical,cmap='gray')\n",
    "ax[1].imshow(gradient_horizontal,cmap='gray')\n",
    "\n",
    "plt.show()"
   ]
  },
  {
   "cell_type": "markdown",
   "metadata": {},
   "source": [
    "As you can see, applying a filter in the vertical direction helps us identify horizontal edges.\n",
    "<div class=\"alert alert-success\">\n",
    "\n",
    "**Task**: Change the filter to a horizontal one and observe how this changes the edge detection.\n",
    "</div>\n",
    "    \n",
    "Thankfully, there's a commonly used filter, the **Sobel** edge filter, that does this for us. First, let's appreciate what it looks like for our bright square."
   ]
  },
  {
   "cell_type": "code",
   "execution_count": null,
   "metadata": {},
   "outputs": [],
   "source": [
    "plt.imshow(filters.sobel(bright_square))\n",
    "plt.show()"
   ]
  },
  {
   "cell_type": "markdown",
   "metadata": {},
   "source": [
    "Now, let's apply it to our cells! \n",
    "<div class=\"alert alert-success\">\n",
    "    \n",
    "**Task**: Create a figure where the left subplot is a filter of our raw cell image. On the right subplot, apply it to the Gaussian filtered image.\n",
    "    \n",
    "</div>"
   ]
  },
  {
   "cell_type": "code",
   "execution_count": null,
   "metadata": {},
   "outputs": [],
   "source": [
    "# Create your figure here\n"
   ]
  },
  {
   "cell_type": "markdown",
   "metadata": {},
   "source": [
    "Note how even just a little bit of preprocessing with a Gaussian filter changes the edge detection!"
   ]
  },
  {
   "cell_type": "markdown",
   "metadata": {},
   "source": [
    "### Final fun challenge\n",
    "<div class=\"alert alert-success\">\n",
    "\n",
    "**Task**: Using numpy arrays, can you write your initials?\n",
    "\n",
    "</div>"
   ]
  },
  {
   "cell_type": "code",
   "execution_count": null,
   "metadata": {},
   "outputs": [],
   "source": [
    "# Write your initials here\n"
   ]
  },
  {
   "cell_type": "markdown",
   "metadata": {},
   "source": [
    "<hr>\n",
    "\n",
    "## About this notebook\n",
    "Some of the code in this notebook was adapted from [this tutorial](https://raphaelvallat.com/bandpower.html) by Raphael Vallat, [these tutorials](https://github.com/voytekresearch/Tutorials) from Torben Noto, _Neural Data Science_ by Pascal Wallisch, and [this tutorial](https://jni.github.io/i2k-skimage-napari/lectures/1_image_filters.html#local-filtering)."
   ]
  }
 ],
 "metadata": {
  "kernelspec": {
   "display_name": "Python 3",
   "language": "python",
   "name": "python3"
  },
  "language_info": {
   "codemirror_mode": {
    "name": "ipython",
    "version": 3
   },
   "file_extension": ".py",
   "mimetype": "text/x-python",
   "name": "python",
   "nbconvert_exporter": "python",
   "pygments_lexer": "ipython3",
   "version": "3.7.3"
  }
 },
 "nbformat": 4,
 "nbformat_minor": 2
}
