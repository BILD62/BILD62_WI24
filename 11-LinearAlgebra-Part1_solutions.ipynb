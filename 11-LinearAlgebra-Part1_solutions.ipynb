{
 "cells": [
  {
   "cell_type": "markdown",
   "id": "e689afa4",
   "metadata": {},
   "source": [
    "# What is linear algebra?\n",
    "\n",
    "**Linear algebra** is the study of systems of *linear* equations. \n",
    "\n",
    "After completing this notebook, you'll be able to:\n",
    "* Create a vector using NumPy, compute its length, and visualize it\n",
    "* Compute the dot product between two vectors\n",
    "* Normalize the dot product to calculate a correlation coeffeicient\n",
    "\n",
    "<hr>\n",
    "\n",
    "## Setup\n",
    "Below, we'll import a custom module with some **helper functions** to easily visualize vectors."
   ]
  },
  {
   "cell_type": "code",
   "execution_count": 1,
   "id": "a54e6752",
   "metadata": {},
   "outputs": [
    {
     "name": "stdout",
     "output_type": "stream",
     "text": [
      "Variable            Type        Data/Info\n",
      "-----------------------------------------\n",
      "Arrow3D             type        <class 'linear_algebra.Arrow3D'>\n",
      "FancyArrowPatch     type        <class 'matplotlib.patches.FancyArrowPatch'>\n",
      "np                  module      <module 'numpy' from '/op<...>kages/numpy/__init__.py'>\n",
      "plt                 module      <module 'matplotlib.pyplo<...>es/matplotlib/pyplot.py'>\n",
      "proj3d              module      <module 'mpl_toolkits.mpl<...>lkits/mplot3d/proj3d.py'>\n",
      "visualize_vectors   function    <function visualize_vectors at 0x7eff285af8b0>\n"
     ]
    }
   ],
   "source": [
    "# Import modules, including a custom one!\n",
    "from linear_algebra import *\n",
    "import numpy as np\n",
    "\n",
    "# Check imports\n",
    "%whos"
   ]
  },
  {
   "cell_type": "markdown",
   "id": "0814608e",
   "metadata": {},
   "source": [
    "## Vectors\n",
    "\n",
    "We can build **vectors**, a one-dimensional array of numbers, using NumPy. Below, we'll generate a row vector and column vector. We will also check the vector's *mathematical* **dimensionality** (using `len()` or the `shape` attribute), compared to its dimensionality as a NumPy array (using the `ndim` attribute).\n",
    "\n",
    "**Note**: A vector created without the extra brackets (e.g. `np.array([1,2,3])`) would be orientationless. Sometimes this is okay, but sometimes we need to be extra clear about the orientation."
   ]
  },
  {
   "cell_type": "code",
   "execution_count": 2,
   "id": "51bca248",
   "metadata": {},
   "outputs": [
    {
     "name": "stdout",
     "output_type": "stream",
     "text": [
      "1\n",
      "(3,)\n"
     ]
    }
   ],
   "source": [
    "array = np.array([1,2,3])\n",
    "\n",
    "# Check ndim and shape\n",
    "print(array.ndim)\n",
    "print(array.shape)"
   ]
  },
  {
   "cell_type": "code",
   "execution_count": 4,
   "id": "11b0db55",
   "metadata": {},
   "outputs": [
    {
     "name": "stdout",
     "output_type": "stream",
     "text": [
      "2\n",
      "(1, 4)\n"
     ]
    },
    {
     "data": {
      "text/plain": [
       "array([[-1. ,  0. ,  2. ,  3.1]])"
      ]
     },
     "execution_count": 4,
     "metadata": {},
     "output_type": "execute_result"
    }
   ],
   "source": [
    "row_vector = np.array([ [ -1, 0, 2, 3.1] ])\n",
    "\n",
    "# Check ndim and shape\n",
    "print(row_vector.ndim)\n",
    "print(row_vector.shape)\n",
    "\n",
    "row_vector"
   ]
  },
  {
   "cell_type": "code",
   "execution_count": 7,
   "id": "29f7108d",
   "metadata": {},
   "outputs": [
    {
     "name": "stdout",
     "output_type": "stream",
     "text": [
      "2\n",
      "(3, 1)\n"
     ]
    },
    {
     "data": {
      "text/plain": [
       "array([[1],\n",
       "       [2],\n",
       "       [3]])"
      ]
     },
     "execution_count": 7,
     "metadata": {},
     "output_type": "execute_result"
    }
   ],
   "source": [
    "column_vector =  np.array([ [1],[2],[3] ])\n",
    "print(column_vector.ndim)\n",
    "print(column_vector.shape)\n",
    "column_vector"
   ]
  },
  {
   "cell_type": "markdown",
   "id": "6ba14847",
   "metadata": {},
   "source": [
    "### Transposing vectors (or matrices)\n",
    "\n",
    "To transpose a vector or matrix, we can use [`transpose()`](https://numpy.org/doc/stable/reference/generated/numpy.matrix.transpose.html) or simply`T`."
   ]
  },
  {
   "cell_type": "code",
   "execution_count": 10,
   "id": "23b9c2f0",
   "metadata": {},
   "outputs": [
    {
     "data": {
      "text/plain": [
       "array([[1, 2, 3]])"
      ]
     },
     "execution_count": 10,
     "metadata": {},
     "output_type": "execute_result"
    }
   ],
   "source": [
    "# Transpose our vectors\n",
    "#row_2 = column_vector.T\n",
    "row_2 = column_vector.transpose()\n",
    "row_2"
   ]
  },
  {
   "cell_type": "markdown",
   "id": "e62db4fe",
   "metadata": {},
   "source": [
    "### Coordinate vectors\n",
    "When our origin is at zero, we can also use arrays to store coordinates. Below, we'll use NumPy to create two arrays which represent the coordinates for two vectors."
   ]
  },
  {
   "cell_type": "code",
   "execution_count": 11,
   "id": "9b2a362c",
   "metadata": {},
   "outputs": [],
   "source": [
    "# Note that here we don't need to worry about vector orientation (row vs. column), \n",
    "# so for simplicity the vectors are created orientationless.\n",
    "v1 = np.array([2, 4])\n",
    "v2 = np.array([2, -2])"
   ]
  },
  {
   "cell_type": "code",
   "execution_count": 13,
   "id": "ec401c5f",
   "metadata": {},
   "outputs": [
    {
     "data": {
      "image/png": "[encoded data removed]",
      "text/plain": [
       "<Figure size 360x360 with 1 Axes>"
      ]
     },
     "metadata": {
      "needs_background": "light"
     },
     "output_type": "display_data"
    }
   ],
   "source": [
    "# Use the function we imported to visualize\n",
    "visualize_vectors(v1,v2)"
   ]
  },
  {
   "cell_type": "markdown",
   "id": "580e613e",
   "metadata": {},
   "source": [
    "### Vector addition, subtraction, and scalar multiplication\n",
    "\n",
    "<div class=\"alert alert-success\"><b>Tasks:</b> \n",
    "    \n",
    "* Add vectors v1 and v2. \n",
    "* Subtract vectors v1 and v2. \n",
    "* Multiply v2 by a scalar of 3.\n",
    "    \n",
    "    For each of these, you can use our <code>visualize_vectors</code> function to see the resulting array.\n",
    "    \n",
    "    </div>"
   ]
  },
  {
   "cell_type": "code",
   "execution_count": 14,
   "id": "624779ef",
   "metadata": {},
   "outputs": [
    {
     "name": "stdout",
     "output_type": "stream",
     "text": [
      "[4 2]\n",
      "[0 6]\n",
      "[ 6 -6]\n"
     ]
    },
    {
     "data": {
      "image/png": "[encoded data removed]",
      "text/plain": [
       "<Figure size 360x360 with 1 Axes>"
      ]
     },
     "metadata": {
      "needs_background": "light"
     },
     "output_type": "display_data"
    }
   ],
   "source": [
    "# Manipulate vectors here\n",
    "added = v1 + v2\n",
    "print(added)\n",
    "\n",
    "substracted = v1 - v2\n",
    "print(substracted)\n",
    "\n",
    "scaled = v2 * 3\n",
    "\n",
    "print(scaled)\n",
    "\n",
    "visualize_vectors(scaled)"
   ]
  },
  {
   "cell_type": "markdown",
   "id": "d0c719c9",
   "metadata": {},
   "source": [
    "### Normalizing vectors\n",
    "\n",
    "A vector is **normalized** when *each element* in the vector is divided by the length. Note that length here *is not* how many elements are in the vector! It is the *actual* length of the vector. Thankfully, there's a NumPy function that can help us compute length: [`np.linalg.norm()`](https://numpy.org/doc/stable/reference/generated/numpy.linalg.norm.html). The **norm** is a measure of the size or length of a vector or matrix in linear algebra. It is a generalization of the concept of the magnitude of a vector in Euclidean space.\n",
    "\n",
    "Let's see if we can normalize by division."
   ]
  },
  {
   "cell_type": "code",
   "execution_count": 15,
   "id": "465376ca",
   "metadata": {},
   "outputs": [
    {
     "data": {
      "text/plain": [
       "4.47213595499958"
      ]
     },
     "execution_count": 15,
     "metadata": {},
     "output_type": "execute_result"
    }
   ],
   "source": [
    "v1_length = np.linalg.norm(v1) # compute norm (aka magnitude or length)\n",
    "v1_length "
   ]
  },
  {
   "cell_type": "markdown",
   "id": "c09b60dc",
   "metadata": {},
   "source": [
    "We can compare the length we get above to the output of the Pythagoream theorem. *Hint*: use `np.sqrt()`."
   ]
  },
  {
   "cell_type": "code",
   "execution_count": 16,
   "id": "47148a3d",
   "metadata": {},
   "outputs": [
    {
     "data": {
      "text/plain": [
       "4.47213595499958"
      ]
     },
     "execution_count": 16,
     "metadata": {},
     "output_type": "execute_result"
    }
   ],
   "source": [
    "# Compare norm to Pythagoream\n",
    "np.sqrt(v1[0]**2 + v1[1]**2)"
   ]
  },
  {
   "cell_type": "markdown",
   "id": "28509bec",
   "metadata": {},
   "source": [
    "Finally, we will divide the original vector by the length."
   ]
  },
  {
   "cell_type": "code",
   "execution_count": 17,
   "id": "78aea282",
   "metadata": {},
   "outputs": [
    {
     "data": {
      "text/plain": [
       "array([0.4472136 , 0.89442719])"
      ]
     },
     "execution_count": 17,
     "metadata": {},
     "output_type": "execute_result"
    }
   ],
   "source": [
    "normalized_vector = v1 / v1_length\n",
    "normalized_vector"
   ]
  },
  {
   "cell_type": "code",
   "execution_count": 18,
   "id": "1a30c980",
   "metadata": {},
   "outputs": [
    {
     "data": {
      "text/plain": [
       "0.9999999999999999"
      ]
     },
     "execution_count": 18,
     "metadata": {},
     "output_type": "execute_result"
    }
   ],
   "source": [
    "# Check the magnitude of the new vector! Is this a unit vector?\n",
    "np.linalg.norm(normalized_vector)"
   ]
  },
  {
   "cell_type": "code",
   "execution_count": 19,
   "id": "10fb3fcf",
   "metadata": {},
   "outputs": [
    {
     "data": {
      "image/png": "[encoded data removed]",
      "text/plain": [
       "<Figure size 360x360 with 1 Axes>"
      ]
     },
     "metadata": {
      "needs_background": "light"
     },
     "output_type": "display_data"
    }
   ],
   "source": [
    "# Visualize v1 alongside the new, unit vector\n",
    "visualize_vectors(v1,normalized_vector)"
   ]
  },
  {
   "cell_type": "markdown",
   "id": "ca93bce1",
   "metadata": {},
   "source": [
    "<div class=\"alert alert-success\"><b>Task:</b> Write a function, <code>normalize_vector</code> that takes any vector and normalizes it. What happens if you give it the zeros vector?</div>"
   ]
  },
  {
   "cell_type": "code",
   "execution_count": 20,
   "id": "2f7f687c",
   "metadata": {},
   "outputs": [],
   "source": [
    "# Write your function here\n",
    "\n",
    "def normalize_vector(v):\n",
    "    \n",
    "    v_length = np.linalg.norm(v) # compute norm (aka magnitude or length)\n",
    "    normalized_vector = v / v_length\n",
    "    \n",
    "    # Functions can call other functions!\n",
    "    visualize_vectors(v,normalized_vector)\n",
    "    \n",
    "    return normalized_vector"
   ]
  },
  {
   "cell_type": "code",
   "execution_count": 21,
   "id": "c8994580",
   "metadata": {},
   "outputs": [
    {
     "data": {
      "text/plain": [
       "array([ 0.70710678, -0.70710678])"
      ]
     },
     "execution_count": 21,
     "metadata": {},
     "output_type": "execute_result"
    },
    {
     "data": {
      "image/png": "[encoded data removed]",
      "text/plain": [
       "<Figure size 360x360 with 1 Axes>"
      ]
     },
     "metadata": {
      "needs_background": "light"
     },
     "output_type": "display_data"
    }
   ],
   "source": [
    "normalize_vector(v2)"
   ]
  },
  {
   "cell_type": "markdown",
   "id": "c86cea6e",
   "metadata": {},
   "source": [
    "Finally, we can combine addition, subtraction, and scalars to create linear combinations of vectors."
   ]
  },
  {
   "cell_type": "code",
   "execution_count": 22,
   "id": "e8afca28",
   "metadata": {},
   "outputs": [
    {
     "data": {
      "text/plain": [
       "array([ 6, 24])"
      ]
     },
     "execution_count": 22,
     "metadata": {},
     "output_type": "execute_result"
    }
   ],
   "source": [
    "# Linear combinations\n",
    "\n",
    "v3 = 5*v1 + -2*v2\n",
    "v3"
   ]
  },
  {
   "cell_type": "markdown",
   "id": "d0d73c11",
   "metadata": {},
   "source": [
    "## Linear Algebra Functions\n",
    "\n",
    "One of the most important operations in linear algebra is the dot product. First, let's show how dot products work between vectors. Below, we'll use `np.dot()`. **Note**: This function technically implements matrix multiplication, a collection of dot products."
   ]
  },
  {
   "cell_type": "code",
   "execution_count": 23,
   "id": "d9b3560e",
   "metadata": {},
   "outputs": [
    {
     "data": {
      "text/plain": [
       "70"
      ]
     },
     "execution_count": 23,
     "metadata": {},
     "output_type": "execute_result"
    }
   ],
   "source": [
    "v = np.array([1,2,3,4])\n",
    "w = np.array([5,6,7,8])\n",
    "np.dot(v,w)"
   ]
  },
  {
   "cell_type": "markdown",
   "id": "c7560588",
   "metadata": {},
   "source": [
    "### Special dot product observations\n",
    "\n",
    "<div class=\"alert alert-success\"><b>Task:</b> Below, create two vectors that are <b>orthogonal</b>. Then, compute their dot product.</div>\n",
    "\n",
    "![](https://upload.wikimedia.org/wikipedia/commons/thumb/8/84/Perpendicular-coloured.svg/220px-Perpendicular-coloured.svg.png)"
   ]
  },
  {
   "cell_type": "code",
   "execution_count": 30,
   "id": "16819e6b",
   "metadata": {},
   "outputs": [
    {
     "name": "stdout",
     "output_type": "stream",
     "text": [
      "0\n"
     ]
    },
    {
     "data": {
      "image/png": "[encoded data removed]",
      "text/plain": [
       "<Figure size 360x360 with 1 Axes>"
      ]
     },
     "metadata": {
      "needs_background": "light"
     },
     "output_type": "display_data"
    }
   ],
   "source": [
    "# Create vectors here\n",
    "\n",
    "a = np.array([2,0])\n",
    "b = np.array([0,2])\n",
    "\n",
    "print(np.dot(a,b))\n",
    "\n",
    "visualize_vectors(a,b)"
   ]
  },
  {
   "cell_type": "markdown",
   "id": "d97eda12",
   "metadata": {},
   "source": [
    "<div class=\"alert alert-success\"><b>Task:</b> Is the dot product <b>commutative</b>? Commutative means that $a*b == b*a$. Test this below.</div>\n",
    "\n",
    "(See a full elaboration on this [here](https://youtu.be/LyGKycYT2v0?si=FBmISeSy6Wjs_v22)!)"
   ]
  },
  {
   "cell_type": "code",
   "execution_count": 32,
   "id": "e7f5ae4c",
   "metadata": {},
   "outputs": [
    {
     "name": "stdout",
     "output_type": "stream",
     "text": [
      "70\n",
      "70\n"
     ]
    }
   ],
   "source": [
    "# Test commutative\n",
    "print(np.dot(v,w))\n",
    "print(np.dot(w,v))"
   ]
  },
  {
   "cell_type": "markdown",
   "id": "28d280bd",
   "metadata": {},
   "source": [
    "### Computing correlations\n",
    "The magnitude of the dot product indicates the strength of similarity between two vectors, but it is *also* is related to the magnitude of the numerical values in the data.\n",
    "\n",
    "Let's demonstrate that using two vectors. One gives the height and weight of two different people in inches and grams, and the second gives the height and weight of those same in feet and pounds."
   ]
  },
  {
   "cell_type": "code",
   "execution_count": 33,
   "id": "c6dea004",
   "metadata": {},
   "outputs": [
    {
     "name": "stdout",
     "output_type": "stream",
     "text": [
      "24729835.839999996\n",
      "4543.333333333333\n"
     ]
    }
   ],
   "source": [
    "pounds = np.array([130,150,200,210])\n",
    "grams = pounds*453.592\n",
    "\n",
    "inches = np.array([64,76,90,80])\n",
    "feet = inches/12\n",
    "\n",
    "print(np.dot(inches,grams))\n",
    "print(np.dot(feet,pounds))"
   ]
  },
  {
   "cell_type": "markdown",
   "id": "b8d105d7",
   "metadata": {},
   "source": [
    "So, if we want to compute a meaningful value that isn't simply reflecting the magnitude of the vectors, we need to normalize these dot products by doing the following:\n",
    "\n",
    "1. Mean centering each variable: subtracting the average value from each data value. *This is the same as computing the norm!*\n",
    "2. Dividing the dot product by the product of the vector norms. This divisive normalization cancels the measurement units and scales maximum possible correlation magnitude to 1."
   ]
  },
  {
   "cell_type": "code",
   "execution_count": 34,
   "id": "b2fd3c84",
   "metadata": {},
   "outputs": [],
   "source": [
    "def normalize_dot(x,y):\n",
    "\n",
    "    # Mean center each value\n",
    "    x_m  = x-np.mean(x)\n",
    "    y_m  = y-np.mean(y)\n",
    "\n",
    "    num = np.dot(x_m,y_m) # numerator\n",
    "    den = np.linalg.norm(x_m) * np.linalg.norm(y_m) # denominator\n",
    "    cor = num / den\n",
    "    \n",
    "    return cor"
   ]
  },
  {
   "cell_type": "code",
   "execution_count": 36,
   "id": "8c1dcac4",
   "metadata": {},
   "outputs": [
    {
     "data": {
      "text/plain": [
       "0.8386003382212673"
      ]
     },
     "execution_count": 36,
     "metadata": {},
     "output_type": "execute_result"
    }
   ],
   "source": [
    "#normalize_dot(grams,inches)\n",
    "normalize_dot(pounds,feet)"
   ]
  },
  {
   "cell_type": "markdown",
   "id": "21585eb0",
   "metadata": {},
   "source": [
    "Of course, given that computing a correlation is a very common data analysis approach, this is built into the **stats** module of the SciPy package. We can compare our results above to the use of [`stats.pearsonr()`](https://docs.scipy.org/doc/scipy/reference/generated/scipy.stats.pearsonr.html): "
   ]
  },
  {
   "cell_type": "code",
   "execution_count": 38,
   "id": "e422c14d",
   "metadata": {},
   "outputs": [
    {
     "name": "stdout",
     "output_type": "stream",
     "text": [
      "0.8386003382212673 0.16139966177873266\n"
     ]
    }
   ],
   "source": [
    "from scipy import stats\n",
    "\n",
    "statistic, pvalue = stats.pearsonr(pounds,feet)\n",
    "print(statistic, pvalue)"
   ]
  },
  {
   "cell_type": "markdown",
   "id": "7ed6458d",
   "metadata": {},
   "source": [
    "<hr>\n",
    "\n",
    "## About this notebook\n",
    "Much of the content here is adapted from [Neuromatch Academy Materials](https://compneuro.neuromatch.io/tutorials/W0D3_LinearAlgebra/student/W0D3_Tutorial1.html), shared under a Creative Commons Attribution 4.0 International License."
   ]
  }
 ],
 "metadata": {
  "kernelspec": {
   "display_name": "Python 3 (ipykernel)",
   "language": "python",
   "name": "python3"
  },
  "language_info": {
   "codemirror_mode": {
    "name": "ipython",
    "version": 3
   },
   "file_extension": ".py",
   "mimetype": "text/x-python",
   "name": "python",
   "nbconvert_exporter": "python",
   "pygments_lexer": "ipython3",
   "version": "3.9.5"
  }
 },
 "nbformat": 4,
 "nbformat_minor": 5
}
