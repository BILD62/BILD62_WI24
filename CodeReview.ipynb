{
 "cells": [
  {
   "cell_type": "code",
   "execution_count": 2,
   "id": "7412d9c7",
   "metadata": {},
   "outputs": [],
   "source": [
    "import numpy as np\n",
    "data = np.loadtxt('Data/recording.txt')\n",
    "\n",
    "class recording():\n",
    "    def __init__(self,data,sampling_freq):\n",
    "        self.data = data\n",
    "    def interpolateOutliers(self):\n",
    "        recording_median = np.median(self.data);self.clean_data = self.data.copy()\n",
    "    \n",
    "        for idx,value in enumerate(self.data):\n",
    "            if value < -999:\n",
    "                self.clean_data[idx] = recording_median\n",
    "            if value == -1000:\n",
    "                self.clean_data[idx] = recording_median\n",
    "        return self.clean_data\n",
    "\n",
    "    def plot_clean(self):\n",
    "        sample_ids = np.arange(0,len(self.clean_data))\n",
    "        timestamps = np.arange(0,43,1/self.sampling_freq)        \n",
    "        plt.plot(self.clean_data)\n",
    "        plt.show()\n",
    "        \n",
    "    def sampling(self):\n",
    "        '''Generate sample ids and timestamps'''\n",
    "        sample_ids = np.arange(0,len(self.clean_data))\n",
    "        timestamps = np.arange(0,43,1/self.sampling_freq)\n",
    "        return self.timestamps,self.sample_ids\n"
   ]
  },
  {
   "cell_type": "code",
   "execution_count": null,
   "id": "2d6ed898",
   "metadata": {},
   "outputs": [],
   "source": []
  }
 ],
 "metadata": {
  "kernelspec": {
   "display_name": "Python 3",
   "language": "python",
   "name": "python3"
  },
  "language_info": {
   "codemirror_mode": {
    "name": "ipython",
    "version": 3
   },
   "file_extension": ".py",
   "mimetype": "text/x-python",
   "name": "python",
   "nbconvert_exporter": "python",
   "pygments_lexer": "ipython3",
   "version": "3.7.3"
  }
 },
 "nbformat": 4,
 "nbformat_minor": 5
}
