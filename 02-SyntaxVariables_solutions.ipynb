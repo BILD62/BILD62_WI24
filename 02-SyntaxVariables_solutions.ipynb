{
 "cells": [
  {
   "cell_type": "markdown",
   "id": "6553d7be",
   "metadata": {},
   "source": [
    "# Syntax & Variables\n",
    "This notebook will introduce you Python syntax & variable types.\n",
    "\n",
    "### At the end of this notebook, you'll be able to:\n",
    "* Identify fundamental rules of Python **syntax**\n",
    "* Assign <b>variables</b> and manipulate them\n",
    "* Interpret basic **errors** while running Jupyter Notebooks\n",
    "\n",
    "<hr>"
   ]
  },
  {
   "cell_type": "markdown",
   "id": "9ea2e14d",
   "metadata": {},
   "source": [
    "## Part I. Python Syntax\n",
    "\n",
    "### Test #1: Do spaces matter in Python?\n",
    "\n",
    "We can run experiments in coding, just like we can in biology. Here, we'll run a small experiment to test whether or not spaces matter. In the cell above, we showed you an example of using a `print` statement to display a line of text.\n",
    "\n",
    "> **Task**: What do you think will happen if you add a space after `print`, before the parentheses? Test your hypothesis in the blank cell below"
   ]
  },
  {
   "cell_type": "code",
   "execution_count": 2,
   "id": "c9cd07eb",
   "metadata": {},
   "outputs": [
    {
     "ename": "IndentationError",
     "evalue": "unexpected indent (1990141480.py, line 5)",
     "output_type": "error",
     "traceback": [
      "\u001b[0;36m  File \u001b[0;32m\"/tmp/ipykernel_208/1990141480.py\"\u001b[0;36m, line \u001b[0;32m5\u001b[0m\n\u001b[0;31m    print( 'hi')           # Spaces are *not* okay at the start of a line\u001b[0m\n\u001b[0m    ^\u001b[0m\n\u001b[0;31mIndentationError\u001b[0m\u001b[0;31m:\u001b[0m unexpected indent\n"
     ]
    }
   ],
   "source": [
    "# Test print here\n",
    "\n",
    "print      (   'hi'   ) # Spaces are okay within statements\n",
    "\n",
    " print( 'hi')           # Spaces are *not* okay at the start of a line\n",
    "    "
   ]
  },
  {
   "cell_type": "markdown",
   "id": "086e797a",
   "metadata": {},
   "source": [
    "### Test #2: Does capitalization matter in Python?\n",
    "> **Task** Similar to above, test whether or not capitalization matters here!"
   ]
  },
  {
   "cell_type": "code",
   "execution_count": 3,
   "id": "6bbcb21c",
   "metadata": {},
   "outputs": [
    {
     "name": "stdout",
     "output_type": "stream",
     "text": [
      "hi\n"
     ]
    },
    {
     "ename": "NameError",
     "evalue": "name 'Print' is not defined",
     "output_type": "error",
     "traceback": [
      "\u001b[0;31m---------------------------------------------------------------------------\u001b[0m",
      "\u001b[0;31mNameError\u001b[0m                                 Traceback (most recent call last)",
      "\u001b[0;32m/tmp/ipykernel_208/714001215.py\u001b[0m in \u001b[0;36m<module>\u001b[0;34m\u001b[0m\n\u001b[1;32m      1\u001b[0m \u001b[0;31m# Test here\u001b[0m\u001b[0;34m\u001b[0m\u001b[0;34m\u001b[0m\u001b[0;34m\u001b[0m\u001b[0m\n\u001b[1;32m      2\u001b[0m \u001b[0mprint\u001b[0m\u001b[0;34m(\u001b[0m\u001b[0;34m'hi'\u001b[0m\u001b[0;34m)\u001b[0m \u001b[0;31m# print works when it is lower case\u001b[0m\u001b[0;34m\u001b[0m\u001b[0;34m\u001b[0m\u001b[0m\n\u001b[0;32m----> 3\u001b[0;31m \u001b[0mPrint\u001b[0m\u001b[0;34m(\u001b[0m\u001b[0;34m'hi'\u001b[0m\u001b[0;34m)\u001b[0m \u001b[0;31m# print does *not* work when it is capitalized... capitalization matters!\u001b[0m\u001b[0;34m\u001b[0m\u001b[0;34m\u001b[0m\u001b[0m\n\u001b[0m",
      "\u001b[0;31mNameError\u001b[0m: name 'Print' is not defined"
     ]
    }
   ],
   "source": [
    "# Test here\n",
    "print('hi') # print works when it is lower case\n",
    "Print('hi') # print does *not* work when it is capitalized... capitalization matters!"
   ]
  },
  {
   "cell_type": "code",
   "execution_count": 4,
   "id": "10dfd4a0",
   "metadata": {},
   "outputs": [
    {
     "data": {
      "text/plain": [
       "6"
      ]
     },
     "execution_count": 4,
     "metadata": {},
     "output_type": "execute_result"
    }
   ],
   "source": [
    "# Quiz question: Will the code below execute without error?\n",
    "# It does execute without error!\n",
    "Print = 2\n",
    "b = Print*3\n",
    "Print * 3"
   ]
  },
  {
   "cell_type": "markdown",
   "id": "6ae27fee",
   "metadata": {},
   "source": [
    "So, Python cares about capitalization, but not spacing (at least in this example). Usefully, Python is also giving us an error message: `NameError: name 'Print' is not defined`.\n",
    "\n",
    "Error messages are extremely useful hints as to why your code may not be working. This one falls into the category \"Name error\". In Google, search \"NameError + Python\" and use this to define a NameError in the box below."
   ]
  },
  {
   "cell_type": "markdown",
   "id": "110d2745",
   "metadata": {},
   "source": [
    "<mark>**NameError**: kind of error that occur when the interpreter encounters a name that is not defined</mark>"
   ]
  },
  {
   "cell_type": "markdown",
   "id": "4e720609",
   "metadata": {},
   "source": [
    "Essentially, Python is telling us that it doesn't know what `Print` is. There's another clue in this notebook telling us that Python is treating `print` and `Print` differently -- can you tell what it is? Write your observations below. "
   ]
  },
  {
   "cell_type": "markdown",
   "id": "60c3c4e5",
   "metadata": {},
   "source": [
    "**Observations**:\n",
    "* print is colored in <font color='green'>green</font> when it is correctly written (keywords are in green!)\n",
    "* capitalization matters in Python\n",
    "* spaces within statements are okay; spaces in front are not."
   ]
  },
  {
   "cell_type": "markdown",
   "id": "9859e63d",
   "metadata": {},
   "source": [
    "### Test #3: Do indents or white space matter?\n",
    "\n",
    "One final test! Does Python care about indents (or spaces in front of the code), or white space (blank lines in between lines of code)? Create a Code cell to test these, and then a new Markdown cell to write your observations below."
   ]
  },
  {
   "cell_type": "markdown",
   "id": "699023a5",
   "metadata": {},
   "source": [
    "<div class=\"alert alert-info\"><b>Quiz Task</b>: After you have completed the tests above, complete the first five. questions on the Canvas quiz with your group.</div>"
   ]
  },
  {
   "cell_type": "markdown",
   "id": "17e9a354",
   "metadata": {},
   "source": [
    "## Part II. Variables\n",
    "Variables enable us to store a value and come back to it later. They are defined with `name = value`. *Assignment is not the same thing as equality,* as in mathematics.\n",
    "\n",
    "### Assigning variables"
   ]
  },
  {
   "cell_type": "markdown",
   "id": "5e1e23a9",
   "metadata": {},
   "source": [
    "<div class=\"alert alert-success\"><b>Task:</b> Create two variables: a & b. Then, use an expression that combines a and b, and assign this to c. In the end, c should be equal to 6.</div>"
   ]
  },
  {
   "cell_type": "code",
   "execution_count": 5,
   "id": "b8692c87",
   "metadata": {},
   "outputs": [],
   "source": [
    "# Let's save a few integers and then manipulate them.\n",
    "a = 2\n",
    "b = 3\n",
    "c = a * b"
   ]
  },
  {
   "cell_type": "markdown",
   "id": "8af8e2dd",
   "metadata": {},
   "source": [
    "<b>Note</b>: Most code cells will not give you an output unless you ask for it. You can use `print( )` to output a variable or string. However, cells that *only* contain one variable will print its value.\n",
    "\n",
    "<div class=\"alert alert-success\"><b>Task:</b> Create a cell below and output your variable <code>c</code>.\n",
    "    </div>"
   ]
  },
  {
   "cell_type": "code",
   "execution_count": 6,
   "id": "754649df",
   "metadata": {},
   "outputs": [
    {
     "name": "stdout",
     "output_type": "stream",
     "text": [
      "6\n"
     ]
    }
   ],
   "source": [
    "print(c)"
   ]
  },
  {
   "cell_type": "markdown",
   "id": "84240bcb",
   "metadata": {},
   "source": [
    "### Types of Variables\n",
    "Variables can be different types. Python lets you change the type of variables (the function is in parentheses below), however, *you cannot combine types*.\n",
    "\n",
    "* Integers (`int`) \n",
    "* String (`str`): letters, numbers, symbols, spaces\n",
    "* Float (`float`): any number with a decimal point (floating point number)\n",
    "\n",
    "You can check what type your variable is by using `type(variable)`.\n",
    "\n",
    "<b>Note</b>: If you ever need help using a function (e.g., `type`) in Jupyter Notebook, you can enter the function followed by a question mark or `help(function)`. For example, `type?` or `help(type)`. You can also check <a href=\"https://www.geeksforgeeks.org/python-type-function/\">the documentation</a>.\n",
    "\n",
    "<b>Reminder:</b> Jupyter will only show you the last line of code in your cell. If you'd like to see more lines, use `print()`.\n",
    "\n",
    "<div class=\"alert alert-success\"><b>Task:</b> In the cell below, assign <b>101</b> to <code>my_variable</code> and check the type of your variable.</div>"
   ]
  },
  {
   "cell_type": "code",
   "execution_count": 7,
   "id": "c568d9ef",
   "metadata": {},
   "outputs": [
    {
     "data": {
      "text/plain": [
       "int"
      ]
     },
     "execution_count": 7,
     "metadata": {},
     "output_type": "execute_result"
    }
   ],
   "source": [
    "# Check the type of my_variable here\n",
    "my_variable = 101\n",
    "type(my_variable)"
   ]
  },
  {
   "cell_type": "markdown",
   "id": "ba853600",
   "metadata": {},
   "source": [
    "Different operators in Python will produce different types of variables. \n",
    "\n",
    "<div class=\"alert alert-success\"><b>Task:</b> Compare the results of 12/2 and 12//2 by assigning the results of these operations to two different variables. Then, use the <code>int</code> and <code>float</code> functions to transform these variables into an integer and a float called: <code>result_int</code> and <code>result_float</code>.</div>\n",
    "\n",
    "*Hint*: You can wrap commands in other commands. For example, we could write `print(type(a))`."
   ]
  },
  {
   "cell_type": "code",
   "execution_count": 8,
   "id": "93a96a7d",
   "metadata": {},
   "outputs": [
    {
     "name": "stdout",
     "output_type": "stream",
     "text": [
      "<class 'float'>\n",
      "<class 'int'>\n",
      "First result is:  <class 'int'>\n",
      "Second result is:  <class 'float'>\n"
     ]
    }
   ],
   "source": [
    "# Write your code here\n",
    "example_1 = 12/2\n",
    "example_2 = 12//2\n",
    "\n",
    "print(type(example_1))\n",
    "print(type(example_2))\n",
    "\n",
    "result_int = int(example_1)\n",
    "result_float = float(example_2)\n",
    "\n",
    "print('First result is: ',type(result_int))\n",
    "print('Second result is: ',type(result_float))"
   ]
  },
  {
   "cell_type": "markdown",
   "id": "418f4991",
   "metadata": {},
   "source": [
    "<div class=\"alert alert-info\"><b>Quiz Task</b>: What happens when you add a float (result_float) and an integer (result_int)? Test below, and write the answer on your Quiz.</div>"
   ]
  },
  {
   "cell_type": "code",
   "execution_count": 9,
   "id": "bcff3f71",
   "metadata": {},
   "outputs": [
    {
     "data": {
      "text/plain": [
       "float"
      ]
     },
     "execution_count": 9,
     "metadata": {},
     "output_type": "execute_result"
    }
   ],
   "source": [
    "# Add your float and int here\n",
    "type(result_int+result_float)"
   ]
  },
  {
   "cell_type": "markdown",
   "id": "cbc8ddf0",
   "metadata": {},
   "source": [
    "We can use the command `round( )` to round a float number to a whole number.\n",
    "\n",
    "<div class=\"alert alert-success\"><b>Task:</b> Try round with a float below, and print your result. What kind of variable does this create?</div>"
   ]
  },
  {
   "cell_type": "code",
   "execution_count": 10,
   "id": "f4ae2505",
   "metadata": {},
   "outputs": [
    {
     "data": {
      "text/plain": [
       "int"
      ]
     },
     "execution_count": 10,
     "metadata": {},
     "output_type": "execute_result"
    }
   ],
   "source": [
    "# Try round() here\n",
    "first_num = round(3.444444)\n",
    "type(first_num)"
   ]
  },
  {
   "cell_type": "markdown",
   "id": "67ac1ccd",
   "metadata": {},
   "source": [
    "## Declaring Variables Cheat Sheet\n",
    "Not *every* word or combination of words and numbers can be a variable name. For example, Python has a list of <b>reserved keywords</b> that cannot be variable names:\n",
    "\n",
    "<table type=\"text/css\">\n",
    "  <tr>\n",
    "      <td><code>False</code></td>\n",
    "      <td><code>None</code></td>\n",
    "      <td><code>True</code></td>\n",
    "      <td><code>and</code></td>\n",
    "      <td><code>as</code></td>\n",
    "      <td><code>assert</code></td>\n",
    "      <td><code>break</code></td>\n",
    "  </tr>\n",
    "  <tr>\n",
    "      <td><code>class</code></td>\n",
    "      <td><code>continue</code></td>\n",
    "      <td><code>def</code></td>\n",
    "      <td><code>del</code></td>\n",
    "      <td><code>elif</code></td>\n",
    "      <td><code>else</code></td>\n",
    "      <td><code>except</code></td>\n",
    "  </tr>\n",
    "  <tr>\n",
    "      <td><code>finally</code></td>\n",
    "      <td><code>for</code></td>\n",
    "      <td><code>from</code></td>\n",
    "      <td><code>global</code></td>\n",
    "      <td><code>if</code></td>\n",
    "      <td><code>import</code></td>\n",
    "      <td><code>in</code></td>\n",
    "  </tr>\n",
    "  <tr>\n",
    "      <td><code>is</code></td>\n",
    "      <td><code>lambda</code></td>\n",
    "      <td><code>nonlocal</code></td>\n",
    "      <td><code>not</code></td>\n",
    "      <td><code>or</code></td>\n",
    "      <td><code>pass</code></td>\n",
    "      <td><code>raise</code></td>\n",
    "  </tr>    \n",
    "  <tr>\n",
    "      <td><code>return</code></td>\n",
    "      <td><code>try</code></td>\n",
    "      <td><code>while</code></td>\n",
    "      <td><code>with</code></td>\n",
    "      <td><code>yield</code></td>\n",
    "  </tr>    \n",
    "</table>"
   ]
  },
  {
   "cell_type": "markdown",
   "id": "1e94459e",
   "metadata": {},
   "source": [
    "<div class=\"alert alert-success\"><b>Task:</b> Attempt to create a variables with three different reserved words above. Observe what error you receive.</div>"
   ]
  },
  {
   "cell_type": "code",
   "execution_count": 12,
   "id": "4989b5e3",
   "metadata": {},
   "outputs": [
    {
     "ename": "SyntaxError",
     "evalue": "invalid syntax (2162089696.py, line 4)",
     "output_type": "error",
     "traceback": [
      "\u001b[0;36m  File \u001b[0;32m\"/tmp/ipykernel_208/2162089696.py\"\u001b[0;36m, line \u001b[0;32m4\u001b[0m\n\u001b[0;31m    10penguins = 10\u001b[0m\n\u001b[0m      ^\u001b[0m\n\u001b[0;31mSyntaxError\u001b[0m\u001b[0;31m:\u001b[0m invalid syntax\n"
     ]
    }
   ],
   "source": [
    "# Try to create variables here\n",
    "a_b  = 1\n",
    "penguins10 = 10\n",
    "10penguins = 10"
   ]
  },
  {
   "cell_type": "markdown",
   "id": "2d72b905",
   "metadata": {},
   "source": [
    "<div class=\"alert alert-info\"><b>Quiz Task</b>: Instead of simply giving you the other rules for creating variables, use trial and error figure out what works and what doesn't. Are variables case-sensitive? Do numbers and symbols (e.g., %, ^, -) work, and if so, where? Derive <b>three</b> rules about variables and write these on your quiz.</div>"
   ]
  },
  {
   "cell_type": "markdown",
   "id": "ef32adb0",
   "metadata": {},
   "source": [
    "**Note**: There are hard and fast rules about variable names you *definitely* can't use, and then there are conventions. As you may have noticed, we'll primarily be naming variables with lowercase words separated by an underscore. This is the most readable, and is what is recommend by the official Python style guide."
   ]
  },
  {
   "cell_type": "markdown",
   "id": "127c2a47",
   "metadata": {},
   "source": [
    "## Part III. Working with Strings\n",
    "Strings are represented by matching beginning & ending quotation marks. A few useful notes:\n",
    "\n",
    "* Quotation marks can be single (`'`) or double (`\"`); use single within double (we'll stick to single, most of the time)\n",
    "    * One single quotation mark within a pair of double quotation marks will be interpreted as an apostrophe (a single quotation mark).\n",
    "* Use `\\` to keep single or double quotation mark, instead of reading it as a string (e.g., for a quote or an apostrophe)\n",
    "\n",
    "Let's see how this works with some familiar looking strings -- DNA! Below, we'll assign a string of nucleotides to the variable `my_dna`."
   ]
  },
  {
   "cell_type": "code",
   "execution_count": 13,
   "id": "d608f9e4",
   "metadata": {},
   "outputs": [],
   "source": [
    "my_dna = 'AATGCCGTGCTT'"
   ]
  },
  {
   "cell_type": "markdown",
   "id": "5f17ed06",
   "metadata": {},
   "source": [
    "#### Indexing and slicing strings\n",
    "We can **index** or **slice** strings using bracket notation. For example, if you want to take the first codon from this list, you could do the following:"
   ]
  },
  {
   "cell_type": "code",
   "execution_count": 15,
   "id": "d3fe7265",
   "metadata": {},
   "outputs": [
    {
     "data": {
      "text/plain": [
       "'AAT'"
      ]
     },
     "execution_count": 15,
     "metadata": {},
     "output_type": "execute_result"
    }
   ],
   "source": [
    "# Slice the first codon\n",
    "first_codon = my_dna[:3]\n",
    "first_codon"
   ]
  },
  {
   "cell_type": "markdown",
   "id": "6c9f8a03",
   "metadata": {},
   "source": [
    "Notice the notation here -- we're starting at index 0, and going *until* but not including index 3. We can also use negative indices to index and slice. The image below gives you a visual depiction of the index for each character.\n",
    "\n",
    "> Use the cell above to test different indices and slices.\n",
    "\n",
    "![](http://www.nltk.org/images/string-slicing.png)"
   ]
  },
  {
   "cell_type": "markdown",
   "id": "8d922fd3",
   "metadata": {},
   "source": [
    "#### Concatenating strings\n",
    "\n",
    "You can concatenate strings (either as variables or by them selves) with `+`.\n",
    "\n",
    "<div class=\"alert alert-info\"><b>Quiz Task</b>: There is a species of jellyfish called 'Bazinga rieki' and a species of orchid bee called 'Euglossa bazinga'. How can we use slicing and concetenation to remix these names to get a species called 'Bazinga bazinga'? <b>Complete the line of code that says <code>new_jellybee = ... </code> and include this line on your quiz.</div> "
   ]
  },
  {
   "cell_type": "code",
   "execution_count": 17,
   "id": "be554808",
   "metadata": {},
   "outputs": [
    {
     "data": {
      "text/plain": [
       "'Bazinga bazinga'"
      ]
     },
     "execution_count": 17,
     "metadata": {},
     "output_type": "execute_result"
    }
   ],
   "source": [
    "jellyfish = 'Bazinga rieki'\n",
    "orchidbee = 'Euglossa bazinga'\n",
    "new_jellybee = jellyfish[0:8] + orchidbee[-7:]\n",
    "new_jellybee"
   ]
  },
  {
   "cell_type": "markdown",
   "id": "f5d8d630",
   "metadata": {},
   "source": [
    "Remember: we can use the `print` function to show more than one variable, as well as variables of different types. You can separate items within `print` by commas to print multiple variables, e.g. `print(a,b,\"name\")`.\n",
    "\n",
    "<div class=\"alert alert-success\"><b>Task:</b> Write an expression that adds your <code>jellyfish</code> variable to an integer (for example, 3).</div>"
   ]
  },
  {
   "cell_type": "code",
   "execution_count": 19,
   "id": "6dc0d7a6",
   "metadata": {
    "scrolled": true
   },
   "outputs": [
    {
     "ename": "TypeError",
     "evalue": "can only concatenate str (not \"int\") to str",
     "output_type": "error",
     "traceback": [
      "\u001b[0;31m---------------------------------------------------------------------------\u001b[0m",
      "\u001b[0;31mTypeError\u001b[0m                                 Traceback (most recent call last)",
      "\u001b[0;32m/tmp/ipykernel_208/2316369246.py\u001b[0m in \u001b[0;36m<module>\u001b[0;34m\u001b[0m\n\u001b[0;32m----> 1\u001b[0;31m \u001b[0mjellyfish\u001b[0m \u001b[0;34m+\u001b[0m \u001b[0;36m3\u001b[0m\u001b[0;34m\u001b[0m\u001b[0;34m\u001b[0m\u001b[0m\n\u001b[0m",
      "\u001b[0;31mTypeError\u001b[0m: can only concatenate str (not \"int\") to str"
     ]
    }
   ],
   "source": [
    "jellyfish + 3"
   ]
  },
  {
   "cell_type": "code",
   "execution_count": 20,
   "id": "eb8a8891",
   "metadata": {},
   "outputs": [
    {
     "data": {
      "text/plain": [
       "'Bazinga rieki3'"
      ]
     },
     "execution_count": 20,
     "metadata": {},
     "output_type": "execute_result"
    }
   ],
   "source": [
    "# Corrected\n",
    "jellyfish + str(3)"
   ]
  },
  {
   "cell_type": "markdown",
   "id": "8c80382c",
   "metadata": {},
   "source": [
    "**Hint**: While completing the above, you might receive an error that says \"TypeError: can only concatenate str (not \"int\") to str\". Why would you get this error, and how can you correct it?"
   ]
  },
  {
   "cell_type": "markdown",
   "id": "650e3874",
   "metadata": {},
   "source": [
    "Jupyter also has \n",
    "<a href=\"https://en.wikipedia.org/wiki/Command-line_completion\" class=\"alert-link\"><b>tab complete</b></a>\n",
    "capacities, which can autocomplete what you are typing, and/or be used to explore what code is available. This is useful, for example, if you have a long string variable.\n",
    "\n",
    "\n",
    "<div class=\"alert alert-success\"><b>Task: </b>Use autocomplete to write the name of one of your variables above.</div>"
   ]
  },
  {
   "cell_type": "code",
   "execution_count": null,
   "id": "f9fac3fd",
   "metadata": {},
   "outputs": [],
   "source": [
    "# Move your cursor to the end of the line, press tab, and a drop menu will appear showing all possible completions\n",
    "# If there is only one option, tab-complete will auto-complete what you are typing\n",
    "\n"
   ]
  },
  {
   "cell_type": "markdown",
   "id": "cc6d59f4",
   "metadata": {},
   "source": [
    "As we're working through this notebook, the kernel also stores your **namespace** - all the variables and code that you have declared (executed). You can check which variables and functions are available with the command `%who`, or `%whos` (for more detailed information).\n",
    "\n",
    "<div class=\"alert alert-success\"><b>Task: </b>Use the who(s) command to check your variables below.</div>"
   ]
  },
  {
   "cell_type": "code",
   "execution_count": 21,
   "id": "5c3a3b5c",
   "metadata": {},
   "outputs": [
    {
     "name": "stdout",
     "output_type": "stream",
     "text": [
      "Variable       Type     Data/Info\n",
      "---------------------------------\n",
      "Print          int      2\n",
      "a              int      2\n",
      "a_b            int      1\n",
      "b              int      3\n",
      "c              int      6\n",
      "example_1      float    6.0\n",
      "example_2      int      6\n",
      "first_codon    str      AAT\n",
      "first_num      int      3\n",
      "jellyfish      str      Bazinga rieki\n",
      "my_dna         str      AATGCCGTGCTT\n",
      "my_variable    int      101\n",
      "new_jellybee   str      Bazinga bazinga\n",
      "orchidbee      str      Euglossa bazinga\n",
      "penguins10     int      10\n",
      "result_float   float    6.0\n",
      "result_int     int      6\n"
     ]
    }
   ],
   "source": [
    "%whos"
   ]
  },
  {
   "cell_type": "markdown",
   "id": "08f87394",
   "metadata": {},
   "source": [
    "<hr>\n",
    "\n",
    "## About this notebook\n",
    "\n",
    "* This notebook is largely derived from UCSD COGS18 Materials, created by Tom Donoghue & Shannon Ellis, as well as [CS5 Green](https://www.cs.hmc.edu/twiki/bin/view/CS5Green) at Harvey Mudd.\n",
    "\n",
    "* For more useful information, check out Jupyter Notebooks \n",
    "<a href=\"https://www.dataquest.io/blog/jupyter-notebook-tips-tricks-shortcuts/\" class=\"alert-link\">tips & tricks</a>\n",
    ", and more information on how \n",
    "<a href=\"http://jupyter.readthedocs.io/en/latest/architecture/how_jupyter_ipython_work.html\" class=\"alert-link\">notebooks work</a>."
   ]
  }
 ],
 "metadata": {
  "kernelspec": {
   "display_name": "Python 3 (ipykernel)",
   "language": "python",
   "name": "python3"
  },
  "language_info": {
   "codemirror_mode": {
    "name": "ipython",
    "version": 3
   },
   "file_extension": ".py",
   "mimetype": "text/x-python",
   "name": "python",
   "nbconvert_exporter": "python",
   "pygments_lexer": "ipython3",
   "version": "3.9.5"
  }
 },
 "nbformat": 4,
 "nbformat_minor": 5
}
