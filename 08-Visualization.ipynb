{
 "cells": [
  {
   "cell_type": "markdown",
   "metadata": {},
   "source": [
    "# Data Visualization\n",
    "\n",
    "The mathematician Richard Hamming once said, “The purpose of computing is insight, not numbers,” and the best way to develop insight is often to visualize data. Visualization deserves an entire lecture of its own, but we can explore a few features of Python’s `matplotlib` library here. While there is no official plotting library, `matplotlib` is the de facto standard.\n",
    "\n",
    "### By the end of this notebook, you'll be able to:\n",
    "* Create plots using `matplotlib.pyplot`\n",
    "* Manipulate aspects of plots\n",
    "* Plot multiple graphs in a single figure\n",
    "\n",
    "### Table of Contents\n",
    "1. [Step One: Plotting tools](#one)\n",
    "2. [Step Two: Load our inflammation data](#two)"
   ]
  },
  {
   "cell_type": "markdown",
   "metadata": {},
   "source": [
    "<a id=\"one\"></a>\n",
    "\n",
    "## Step One: Get comfortable with our plotting tools\n",
    "\n",
    "First, let's get set up for plotting by importing the necessary tool boxes. Below, we will import the `pyplot` module from `matplotlib` as `plt`. "
   ]
  },
  {
   "cell_type": "code",
   "execution_count": null,
   "metadata": {},
   "outputs": [],
   "source": [
    "# Import matplotlib pyplot, our main plotting module\n"
   ]
  },
  {
   "cell_type": "markdown",
   "metadata": {},
   "source": [
    "First, let's create a <a href=\"https://docs.scipy.org/doc/numpy-1.13.0/reference/routines.random.html\">random line</a> using our favorite scientific computing toolbox."
   ]
  },
  {
   "cell_type": "code",
   "execution_count": null,
   "metadata": {},
   "outputs": [],
   "source": [
    "# Import numpy\n",
    "import numpy as np\n",
    "\n",
    "# Generate a random line from 1 to 100 with 100 values\n",
    "random_line = np.random.randint(1,100,100)\n"
   ]
  },
  {
   "cell_type": "markdown",
   "metadata": {},
   "source": [
    "Now, we can use `matplotlib.pyplot` module (imported as `plt` above) to plot our random line.\n",
    "\n",
    "Useful functions:\n",
    "* `plt.plot()` create a plot from a list, array, pandas series, etc.\n",
    "* `plt.show()` show the plot (not strictly necessary in Jupyter, necessary in other IDEs)\n",
    "* `plt.xlabel()` and `plt.ylabel()` change x and y labels\n",
    "* `plt.title()` add a title"
   ]
  },
  {
   "cell_type": "code",
   "execution_count": null,
   "metadata": {},
   "outputs": [],
   "source": [
    "# 1 - Plot the data \n",
    "plt.plot()\n",
    "\n",
    "# 2 - Change plot attributes\n",
    "\n",
    "\n",
    "# 3 - Show the plot\n",
    "plt.show()"
   ]
  },
  {
   "cell_type": "markdown",
   "metadata": {},
   "source": [
    "The `plt.hist()` function works really similarly (see documentation <a href=\"https://matplotlib.org/api/_as_gen/matplotlib.pyplot.hist.html\">here</a>).\n",
    "\n",
    "<div class=\"alert alert-success\"><b>Task</b>: In the cell below:\n",
    "    \n",
    "1. Generate a random list of 100 data points from a standard normal distribution (Hint: Use <code>np.random.standard_normal()</code>, documentation <a href=\"https://docs.scipy.org/doc/numpy-1.13.0/reference/generated/numpy.random.standard_normal.html#numpy.random.standard_normal\">here</a>).\n",
    "    \n",
    "2. Plot a histogram of the data. \n",
    "</div>"
   ]
  },
  {
   "cell_type": "code",
   "execution_count": null,
   "metadata": {},
   "outputs": [],
   "source": [
    "# Generate your plot here\n"
   ]
  },
  {
   "cell_type": "markdown",
   "metadata": {},
   "source": [
    "We can also set up multiple subplots on the same figure using `plt.subplots()`. This also creates separate **axes** (really, separate plots) which we can access and manipulate, particularly if you are plotting multiple lines. It's common to use the `subplots` command for easier access to axis attributes."
   ]
  },
  {
   "cell_type": "code",
   "execution_count": null,
   "metadata": {},
   "outputs": [],
   "source": [
    "# Get information about subplots\n",
    "plt.subplots?"
   ]
  },
  {
   "cell_type": "markdown",
   "metadata": {},
   "source": [
    "**Side Note**: We can assign two things at the same time!"
   ]
  },
  {
   "cell_type": "code",
   "execution_count": null,
   "metadata": {},
   "outputs": [],
   "source": [
    "a , b = 2 , 3\n",
    "print(a)\n",
    "print(b)"
   ]
  },
  {
   "cell_type": "markdown",
   "metadata": {},
   "source": [
    "Below, we'll generate our figure with multiple subplots."
   ]
  },
  {
   "cell_type": "code",
   "execution_count": null,
   "metadata": {
    "scrolled": true
   },
   "outputs": [],
   "source": [
    "# 1 - Generate a figure with subplots\n",
    "fig, ax = plt.subplots(2,2,figsize=(15,5))\n",
    "\n",
    "# 2 - Plot our line on the first axis, [0,0]\n",
    "ax[0,0].plot(random_line)\n",
    "\n",
    "# 3 - Update axis parameters\n",
    "ax[0,0].set_ylabel('random values')\n",
    "\n",
    "# 4 - Update general plot parameters\n",
    "plt.ylabel('random values') # Compare what this does versus ax.set_ylabel\n",
    "\n",
    "plt.show()"
   ]
  },
  {
   "cell_type": "markdown",
   "metadata": {},
   "source": [
    "## Step Two: Load our inflammation data and plot\n",
    "\n",
    "As we saw in the NumPy notebook, 'inflammation.csv' contains information about patient's inflammation ratings over many days. It is a two-dimensional dataset. As such, we can visualize it as a heatmap using the `imshow` function."
   ]
  },
  {
   "cell_type": "code",
   "execution_count": null,
   "metadata": {},
   "outputs": [],
   "source": [
    "# Load data\n",
    "data = np.loadtxt(fname='Data/inflammation-01.csv', delimiter=',')\n",
    "\n",
    "# Display data as image\n",
    "image = plt.imshow(data)\n",
    "\n",
    "plt.colorbar()         # Add color bar\n",
    "plt.xlabel('Days')     # Add x label\n",
    "plt.ylabel('Patients') # Add y label\n",
    "plt.show()"
   ]
  },
  {
   "cell_type": "markdown",
   "metadata": {},
   "source": [
    "Each row in the heat map corresponds to a patient in the clinical trial dataset, and each column corresponds to a day in the dataset. Blue pixels in this heat map represent low values, while yellow pixels represent high values. As we can see, the general number of inflammation flare-ups for the patients rises and falls over a 40-day period."
   ]
  },
  {
   "cell_type": "code",
   "execution_count": null,
   "metadata": {},
   "outputs": [],
   "source": [
    "# Compute average inflammation\n",
    "\n",
    "ave_inflammation = ...\n",
    "\n",
    "plt.plot(ave_inflammation)\n",
    "plt.xlabel('Days')\n",
    "plt.ylabel('Average Inflammation')\n",
    "plt.show()"
   ]
  },
  {
   "cell_type": "markdown",
   "metadata": {},
   "source": [
    "Here, we have put the average inflammation per day across all patients in the variable `ave_inflammation`, then asked matplotlib.pyplot to create and display a line graph of those values. The result is a reasonably linear rise and fall, in line with idea that this medication takes 3 weeks to take effect. But a good data scientist doesn’t just consider the average of a dataset, so let’s have a look at two other statistics.\n",
    "\n",
    "<div class=\"alert alert-success\">\n",
    "\n",
    "**Task**: Using the <code>numpy.min</code> and <code>numpy.max</code> functions we've seen before, and the <code>plt.plot()</code> function you learned above, plot the <b>maximum</b> and <b>minimum</b> inflammation over time. Plot these in subplots, side by side with the mean: you should have three plots in a row: mean, max, and min.\n",
    "\n",
    "</div> "
   ]
  },
  {
   "cell_type": "code",
   "execution_count": null,
   "metadata": {},
   "outputs": [],
   "source": [
    "# Calculate average, min, max\n",
    "\n",
    "# Check the data shape\n",
    "\n",
    "# Set up the figure with subplots\n",
    "\n",
    "# Plot on each axis\n",
    "\n",
    "plt.show()"
   ]
  },
  {
   "cell_type": "markdown",
   "metadata": {},
   "source": [
    "As you can see, the maximum value rises and falls linearly, while the minimum seems to be a step function. Neither trend seems particularly likely, so either there’s a mistake in our calculations or something is wrong with our data. This insight would have been difficult to reach by examining the numbers themselves without visualization tools.\n",
    "\n",
    "You can save your figure using `plt.savefig('inflammation.png')`. The call to `savefig` stores the plot as a graphics file. This can be a convenient way to store your plots for use in other documents, web pages etc. The graphics format is automatically determined by Matplotlib from the file name ending we specify; here PNG from ‘inflammation.png’. Matplotlib supports many different graphics formats, including SVG, PDF, and JPEG."
   ]
  },
  {
   "cell_type": "code",
   "execution_count": null,
   "metadata": {},
   "outputs": [],
   "source": [
    "plt.savefig('inflammation.png')"
   ]
  },
  {
   "cell_type": "markdown",
   "metadata": {},
   "source": [
    "<hr>\n",
    "\n",
    "## About this notebook\n",
    "This notebook includes data and code from [this notebook](https://swcarpentry.github.io/python-novice-inflammation/02-numpy/index.html) from the Software Carpentries and is licensed under a CC-BY-40 license (2018-2021): \n",
    "\n",
    "> Azalee Bostroem, Trevor Bekolay, and Valentina Staneva (eds):\n",
    "\"Software Carpentry: Programming with Python.\"  Version 2016.06, June\n",
    "2016, https://github.com/swcarpentry/python-novice-inflammation,\n",
    "10.5281/zenodo.57492."
   ]
  }
 ],
 "metadata": {
  "kernelspec": {
   "display_name": "Python 3",
   "language": "python",
   "name": "python3"
  },
  "language_info": {
   "codemirror_mode": {
    "name": "ipython",
    "version": 3
   },
   "file_extension": ".py",
   "mimetype": "text/x-python",
   "name": "python",
   "nbconvert_exporter": "python",
   "pygments_lexer": "ipython3",
   "version": "3.7.3"
  }
 },
 "nbformat": 4,
 "nbformat_minor": 2
}
