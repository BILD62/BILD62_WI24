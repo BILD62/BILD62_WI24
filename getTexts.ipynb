{
 "cells": [
  {
   "cell_type": "code",
   "execution_count": 3,
   "metadata": {},
   "outputs": [],
   "source": [
    "#load needed libraries\n",
    "from copy import deepcopy\n",
    "import urllib"
   ]
  },
  {
   "cell_type": "code",
   "execution_count": 4,
   "metadata": {},
   "outputs": [],
   "source": [
    "def getTexts(pmc_abstract):\n",
    "    '''find open access files, extract results and methods sections and convert xml to json format'''\n",
    "    for k, v in deepcopy(pmc_abstract).items():\n",
    "        pmc = pmc_abstract[k]['PMC']\n",
    "        if len(pmc)>0:\n",
    "            pmc_idno =(s.strip('PMC') for s in v['PMC'])\n",
    "            #confirm that file is Open Access\n",
    "            try_this = pmc_abstract[k]['PMC']\n",
    "            find_pdf = \"https://www.ncbi.nlm.nih.gov/pmc/utils/oa/oa.fcgi?id={}\".format(*try_this)\n",
    "            #get xml record\n",
    "            url = \"https://www.ncbi.nlm.nih.gov/pmc/oai/oai.cgi?verb=GetRecord&identifier=oai:pubmedcentral.nih.gov:{}&metadataPrefix=pmc\".format(*pmc_idno)\n",
    "            pmc_abstract[k]['OA web address'] = url\n",
    "            # retreive the text and pass it to the variable dic\n",
    "            with urllib.request.urlopen(find_pdf) as response:\n",
    "                the_file = response.read().decode('utf-8')\n",
    "                dict_file = xmltodict.parse(the_file)\n",
    "    \n",
    "                try:\n",
    "                    pmc_abstract['ftp_record'] = dict_file['OA']['records']['record']['link']['@href']\n",
    "                except KeyError:\n",
    "                    pmc_abstract['ftp_record'] = dict_file['OA']['error']['#text']\n",
    "                except TypeError:\n",
    "                    pmc_abstract['ftp_record'] = dict_file['OA']['records']['record']\n",
    "\n",
    "            with urllib.request.urlopen(url) as responsec:\n",
    "                the_filec = responsec.read().decode('utf-8')\n",
    "                dict_filec = xmltodict.parse(the_filec)\n",
    "         \n",
    "                try:\n",
    "                    data_level = dict_filec['OAI-PMH']['GetRecord']['record']['metadata']['article']['body']['sec']\n",
    "\n",
    "                    methods = []\n",
    "                    for m_level in data_level:\n",
    "                        if type(m_level['title']) == str:\n",
    "                            if m_level['title'].lower() in {'materials and methods','experimentalprocedures','experimental procedures','materialsandmethods', 'methods', 'method'}:\n",
    "                                methods.append(m_level['sec'])\n",
    "                        else:\n",
    "                            methods = m_level['title']['ETHODS']\n",
    "\n",
    "                    results = [r_level['sec'] for r_level in data_level if r_level['title'].lower()=='results']\n",
    "                    pmc_abstract[k]['Methods'] = methods\n",
    "                    pmc_abstract[k]['Results'] = results\n",
    "                except (KeyError, TypeError):\n",
    "                    continue            \n",
    "\n",
    "    return pmc_abstract"
   ]
  },
  {
   "cell_type": "code",
   "execution_count": null,
   "metadata": {},
   "outputs": [],
   "source": []
  }
 ],
 "metadata": {
  "kernelspec": {
   "display_name": "Python 3.9.12 64-bit",
   "language": "python",
   "name": "python3"
  },
  "language_info": {
   "codemirror_mode": {
    "name": "ipython",
    "version": 3
   },
   "file_extension": ".py",
   "mimetype": "text/x-python",
   "name": "python",
   "nbconvert_exporter": "python",
   "pygments_lexer": "ipython3",
   "version": "3.9.12"
  },
  "orig_nbformat": 4,
  "vscode": {
   "interpreter": {
    "hash": "b0fa6594d8f4cbf19f97940f81e996739fb7646882a419484c72d19e05852a7e"
   }
  }
 },
 "nbformat": 4,
 "nbformat_minor": 2
}
