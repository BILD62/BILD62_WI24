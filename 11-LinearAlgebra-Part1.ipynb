{
 "cells": [
  {
   "cell_type": "markdown",
   "id": "e689afa4",
   "metadata": {},
   "source": [
    "# What is linear algebra?\n",
    "\n",
    "**Linear algebra** is the study of systems of *linear* equations. \n",
    "\n",
    "After completing this notebook, you'll be able to:\n",
    "* Create a vector using NumPy, compute its length, and visualize it\n",
    "* Compute the dot product between two vectors\n",
    "* Normalize the dot product to calculate a correlation coeffeicient\n",
    "\n",
    "<hr>\n",
    "\n",
    "## Setup\n",
    "Below, we'll import a custom module with some **helper functions** to easily visualize vectors."
   ]
  },
  {
   "cell_type": "code",
   "execution_count": null,
   "id": "a54e6752",
   "metadata": {},
   "outputs": [],
   "source": [
    "# Import modules, including a custom one!\n",
    "from linear_algebra import *\n",
    "import numpy as np\n",
    "\n",
    "# Check imports\n",
    "%whos"
   ]
  },
  {
   "cell_type": "markdown",
   "id": "0814608e",
   "metadata": {},
   "source": [
    "## Vectors\n",
    "\n",
    "We can build **vectors**, a one-dimensional array of numbers, using NumPy. Below, we'll generate a row vector and column vector. We will also check the vector's *mathematical* **dimensionality** (using `len()` or the `shape` attribute), compared to its dimensionality as a NumPy array (using the `ndim` attribute).\n",
    "\n",
    "**Note**: A vector created without the extra brackets (e.g. `np.array([1,2,3])`) would be orientationless. Sometimes this is okay, but sometimes we need to be extra clear about the orientation."
   ]
  },
  {
   "cell_type": "code",
   "execution_count": null,
   "id": "51bca248",
   "metadata": {},
   "outputs": [],
   "source": [
    "array = np.array([1,2,3])\n",
    "\n",
    "# Check ndim and shape\n",
    "print(array.ndim)\n",
    "print(array.shape)"
   ]
  },
  {
   "cell_type": "code",
   "execution_count": null,
   "id": "11b0db55",
   "metadata": {},
   "outputs": [],
   "source": [
    "row_vector = np.array([[ -1, 0, 2, 3.1] ])\n",
    "\n",
    "# Check ndim and shape\n",
    "\n",
    "\n",
    "row_vector"
   ]
  },
  {
   "cell_type": "code",
   "execution_count": null,
   "id": "29f7108d",
   "metadata": {},
   "outputs": [],
   "source": [
    "column_vector =  np.array([ [1],[2],[3] ])\n",
    "column_vector"
   ]
  },
  {
   "cell_type": "markdown",
   "id": "6ba14847",
   "metadata": {},
   "source": [
    "### Transposing vectors (or matrices)\n",
    "\n",
    "To transpose a vector or matrix, we can use [`transpose()`](https://numpy.org/doc/stable/reference/generated/numpy.matrix.transpose.html) or simply`T`."
   ]
  },
  {
   "cell_type": "code",
   "execution_count": null,
   "id": "23b9c2f0",
   "metadata": {},
   "outputs": [],
   "source": [
    "# Transpose our vectors"
   ]
  },
  {
   "cell_type": "markdown",
   "id": "e62db4fe",
   "metadata": {},
   "source": [
    "### Coordinate vectors\n",
    "When our origin is at zero, we can also use arrays to store coordinates. Below, we'll use NumPy to create two arrays which represent the coordinates for two vectors."
   ]
  },
  {
   "cell_type": "code",
   "execution_count": null,
   "id": "9b2a362c",
   "metadata": {},
   "outputs": [],
   "source": [
    "# Note that here we don't need to worry about vector orientation (row vs. column), \n",
    "# so for simplicity the vectors are created orientationless.\n",
    "\n",
    "v1 = np.array([2, 4])\n",
    "v2 = np.array([2, -2])"
   ]
  },
  {
   "cell_type": "code",
   "execution_count": null,
   "id": "ec401c5f",
   "metadata": {},
   "outputs": [],
   "source": [
    "# Use the function we imported to visualize\n",
    "\n",
    "visualize_vectors(v1)"
   ]
  },
  {
   "cell_type": "markdown",
   "id": "580e613e",
   "metadata": {},
   "source": [
    "### Vector addition, subtraction, and scalar multiplication\n",
    "\n",
    "<div class=\"alert alert-success\"><b>Tasks:</b> \n",
    "    \n",
    "* Add vectors v1 and v2. \n",
    "* Subtract vectors v1 and v2. \n",
    "* Multiply v2 by a scalar of 3.\n",
    "    \n",
    "    For each of these, you can use our <code>visualize_vectors</code> function to see the resulting array.\n",
    "    \n",
    "    </div>"
   ]
  },
  {
   "cell_type": "code",
   "execution_count": null,
   "id": "624779ef",
   "metadata": {},
   "outputs": [],
   "source": [
    "# Manipulate vectors here\n"
   ]
  },
  {
   "cell_type": "markdown",
   "id": "d0c719c9",
   "metadata": {},
   "source": [
    "### Normalizing vectors\n",
    "\n",
    "A vector is **normalized** when *each element* in the vector is divided by the length. Note that length here *is not* how many elements are in the vector! It is the *actual* length of the vector. Thankfully, there's a NumPy function that can help us compute length: [`np.linalg.norm()`](https://numpy.org/doc/stable/reference/generated/numpy.linalg.norm.html). The **norm** is a measure of the size or length of a vector or matrix in linear algebra. It is a generalization of the concept of the magnitude of a vector in Euclidean space.\n",
    "\n",
    "Let's see if we can normalize by division."
   ]
  },
  {
   "cell_type": "code",
   "execution_count": null,
   "id": "465376ca",
   "metadata": {},
   "outputs": [],
   "source": [
    "v1_length = np.linalg.norm(v1) # compute norm (aka magnitude or length)\n",
    "v1_length "
   ]
  },
  {
   "cell_type": "markdown",
   "id": "c09b60dc",
   "metadata": {},
   "source": [
    "We can compare the length we get above to the output of the Pythagoream theorem. *Hint*: use `np.sqrt()`."
   ]
  },
  {
   "cell_type": "code",
   "execution_count": null,
   "id": "47148a3d",
   "metadata": {},
   "outputs": [],
   "source": [
    "# Compare norm to Pythagoream\n"
   ]
  },
  {
   "cell_type": "markdown",
   "id": "28509bec",
   "metadata": {},
   "source": [
    "Finally, we will divide the original vector by the length."
   ]
  },
  {
   "cell_type": "code",
   "execution_count": null,
   "id": "78aea282",
   "metadata": {},
   "outputs": [],
   "source": [
    "normalized_vector = v1 / v1_length\n",
    "normalized_vector"
   ]
  },
  {
   "cell_type": "code",
   "execution_count": null,
   "id": "1a30c980",
   "metadata": {},
   "outputs": [],
   "source": [
    "# Check the magnitude of the new vector! Is this a unit vector?\n"
   ]
  },
  {
   "cell_type": "code",
   "execution_count": null,
   "id": "10fb3fcf",
   "metadata": {},
   "outputs": [],
   "source": [
    "# Visualize v1 alongside the new, unit vector\n"
   ]
  },
  {
   "cell_type": "markdown",
   "id": "ca93bce1",
   "metadata": {},
   "source": [
    "<div class=\"alert alert-success\"><b>Task:</b> Write a function, <code>normalize_vector</code> that takes any vector and normalizes it. What happens if you give it the zeros vector?</div>"
   ]
  },
  {
   "cell_type": "code",
   "execution_count": null,
   "id": "2f7f687c",
   "metadata": {},
   "outputs": [],
   "source": [
    "# Write your function here\n"
   ]
  },
  {
   "cell_type": "markdown",
   "id": "c86cea6e",
   "metadata": {},
   "source": [
    "Finally, we can combine addition, subtraction, and scalars to create linear combinations of vectors."
   ]
  },
  {
   "cell_type": "code",
   "execution_count": null,
   "id": "e8afca28",
   "metadata": {},
   "outputs": [],
   "source": [
    "# Linear combinations\n"
   ]
  },
  {
   "cell_type": "markdown",
   "id": "d0d73c11",
   "metadata": {},
   "source": [
    "## Linear Algebra Functions\n",
    "\n",
    "One of the most important operations in linear algebra is the dot product. First, let's show how dot products work between vectors. Below, we'll use `np.dot()`. **Note**: This function technically implements matrix multiplication, a collection of dot products."
   ]
  },
  {
   "cell_type": "code",
   "execution_count": null,
   "id": "d9b3560e",
   "metadata": {},
   "outputs": [],
   "source": [
    "v = np.array([1,2,3,4])\n",
    "w = np.array([5,6,7,8])\n",
    "np.dot(v,w)"
   ]
  },
  {
   "cell_type": "markdown",
   "id": "c7560588",
   "metadata": {},
   "source": [
    "### Special dot product observations\n",
    "\n",
    "<div class=\"alert alert-success\"><b>Task:</b> Below, create two vectors that are <b>orthogonal</b>. Then, compute their dot product.</div>\n",
    "\n",
    "![](https://upload.wikimedia.org/wikipedia/commons/thumb/8/84/Perpendicular-coloured.svg/220px-Perpendicular-coloured.svg.png)"
   ]
  },
  {
   "cell_type": "code",
   "execution_count": null,
   "id": "16819e6b",
   "metadata": {},
   "outputs": [],
   "source": [
    "# Create vectors here\n"
   ]
  },
  {
   "cell_type": "markdown",
   "id": "d97eda12",
   "metadata": {},
   "source": [
    "<div class=\"alert alert-success\"><b>Task:</b> Is the dot product <b>commutative</b>? Commutative means that $a*b == b*a$. Test this below.</div>\n",
    "\n",
    "(See a full elaboration on this [here](https://youtu.be/LyGKycYT2v0?si=FBmISeSy6Wjs_v22)!)"
   ]
  },
  {
   "cell_type": "code",
   "execution_count": null,
   "id": "e7f5ae4c",
   "metadata": {},
   "outputs": [],
   "source": [
    "# Test commutative\n"
   ]
  },
  {
   "cell_type": "markdown",
   "id": "28d280bd",
   "metadata": {},
   "source": [
    "### Computing correlations\n",
    "The magnitude of the dot product indicates the strength of similarity between two vectors, but it is *also* is related to the magnitude of the numerical values in the data.\n",
    "\n",
    "Let's demonstrate that using two vectors. One gives the height and weight of two different people in inches and grams, and the second gives the height and weight of those same in feet and pounds."
   ]
  },
  {
   "cell_type": "code",
   "execution_count": null,
   "id": "c6dea004",
   "metadata": {},
   "outputs": [],
   "source": [
    "pounds = np.array([130,150,200,210])\n",
    "grams = pounds*453.592\n",
    "\n",
    "inches = np.array([64,76,90,80])\n",
    "feet = inches/12\n",
    "\n",
    "print(np.dot(inches,grams))\n",
    "print(np.dot(feet,pounds))"
   ]
  },
  {
   "cell_type": "markdown",
   "id": "b8d105d7",
   "metadata": {},
   "source": [
    "So, if we want to compute a meaningful value that isn't simply reflecting the magnitude of the vectors, we need to normalize these dot products by doing the following:\n",
    "\n",
    "1. Mean centering each variable: subtracting the average value from each data value. *This is the same as computing the norm!*\n",
    "2. Dividing the dot product by the product of the vector norms. This divisive normalization cancels the measurement units and scales maximum possible correlation magnitude to 1."
   ]
  },
  {
   "cell_type": "code",
   "execution_count": null,
   "id": "b2fd3c84",
   "metadata": {},
   "outputs": [],
   "source": [
    "def normalize_dot(x,y):\n",
    "\n",
    "    # Mean center each value\n",
    "    x_m  = x-np.mean(x)\n",
    "    y_m  = y-np.mean(y)\n",
    "\n",
    "    num = np.dot(x_m,y_m) # numerator\n",
    "    den = np.linalg.norm(x_m) * np.linalg.norm(y_m) # denominator\n",
    "    cor = num / den\n",
    "    \n",
    "    return cor"
   ]
  },
  {
   "cell_type": "code",
   "execution_count": null,
   "id": "8c1dcac4",
   "metadata": {},
   "outputs": [],
   "source": [
    "normalize_dot(grams,inches)"
   ]
  },
  {
   "cell_type": "markdown",
   "id": "21585eb0",
   "metadata": {},
   "source": [
    "Of course, given that computing a correlation is a very common data analysis approach, this is built into the **stats** module of the SciPy package. We can compare our results above to the use of [`stats.pearsonr()`](https://docs.scipy.org/doc/scipy/reference/generated/scipy.stats.pearsonr.html): "
   ]
  },
  {
   "cell_type": "code",
   "execution_count": null,
   "id": "e422c14d",
   "metadata": {},
   "outputs": [],
   "source": [
    "from scipy import stats\n",
    "\n",
    "statistic, pvalue = stats.pearsonr(inches,grams)\n",
    "print(statistic, pvalue)"
   ]
  },
  {
   "cell_type": "markdown",
   "id": "7ed6458d",
   "metadata": {},
   "source": [
    "<hr>\n",
    "\n",
    "## About this notebook\n",
    "Much of the content here is adapted from [Neuromatch Academy Materials](https://compneuro.neuromatch.io/tutorials/W0D3_LinearAlgebra/student/W0D3_Tutorial1.html), shared under a Creative Commons Attribution 4.0 International License."
   ]
  }
 ],
 "metadata": {
  "kernelspec": {
   "display_name": "Python 3",
   "language": "python",
   "name": "python3"
  },
  "language_info": {
   "codemirror_mode": {
    "name": "ipython",
    "version": 3
   },
   "file_extension": ".py",
   "mimetype": "text/x-python",
   "name": "python",
   "nbconvert_exporter": "python",
   "pygments_lexer": "ipython3",
   "version": "3.7.3"
  }
 },
 "nbformat": 4,
 "nbformat_minor": 5
}
