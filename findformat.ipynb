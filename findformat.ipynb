{
 "cells": [
  {
   "cell_type": "code",
   "execution_count": 4,
   "metadata": {},
   "outputs": [
    {
     "name": "stdout",
     "output_type": "stream",
     "text": [
      "Requirement already satisfied: Biopython in /Users/moniquesurles-zeigler/opt/anaconda3/envs/biko/lib/python3.9/site-packages (1.79)\n",
      "Requirement already satisfied: numpy in /Users/moniquesurles-zeigler/opt/anaconda3/envs/biko/lib/python3.9/site-packages (from Biopython) (1.23.3)\n"
     ]
    }
   ],
   "source": [
    "! pip install Biopython\n"
   ]
  },
  {
   "cell_type": "code",
   "execution_count": 1,
   "metadata": {},
   "outputs": [],
   "source": [
    "\n",
    "#load needed libraries\n",
    "from Bio import Entrez \n",
    "from xmljson import yahoo as yh\n",
    "from xml.etree.ElementTree import fromstring\n",
    "import xmltodict\n"
   ]
  },
  {
   "cell_type": "code",
   "execution_count": 2,
   "metadata": {},
   "outputs": [],
   "source": [
    "def get_info():\n",
    "    email = input('Please provide email address: ')\n",
    "    return email"
   ]
  },
  {
   "cell_type": "code",
   "execution_count": 3,
   "metadata": {},
   "outputs": [],
   "source": [
    "def get_abstract(term_ids):\n",
    "    fetch_handle = Entrez.efetch(db='pubmed', id=term_ids, retmode='xml', retmax=4000, rettype='abstract')\n",
    "    return fetch_handle.read()"
   ]
  },
  {
   "cell_type": "code",
   "execution_count": 4,
   "metadata": {},
   "outputs": [],
   "source": [
    "def findformat_abstract(terms):\n",
    "    # Create an empty dictionary - can also use dict() \n",
    "    new_abstracts = {}\n",
    "    \n",
    "    # require an email input to search the Entrez databases\n",
    "    Entrez.email = get_info()\n",
    "    \n",
    "    # For each term in the LIST of term ...\n",
    "    for term in terms:\n",
    "        # The try block lets you test a block of code for errors.\n",
    "        # and the except block lets you handle the error.\n",
    "        # next, the else block lets you execute code when there is no error.\n",
    "\n",
    "        try:\n",
    "            # known - do a term search extracting the pubmed ids\n",
    "            pub_handle = Entrez.esearch(db = \"pubmed\", term=term, retmax=4000,sort=\"relevance\", retmode = \"xml\")\n",
    "            pub_record = Entrez.read(pub_handle)\n",
    "            pub_id = pub_record[\"IdList\"]\n",
    "\n",
    "            # known - get abstracts for the pubmed ids \n",
    "            abstracts= get_abstract(pub_id)\n",
    "            y_abstracts = yh.data(fromstring(abstracts))\n",
    "\n",
    "            #look at structure of data to see what data structures exists - how do we retrieve these structures\n",
    "            try:\n",
    "                format_abstracts = y_abstracts['PubmedArticleSet']['PubmedArticle'] #dict\n",
    "                for ref_data in (format_abstracts): #list\n",
    "                    ref_medline_citation = ref_data['MedlineCitation'] #dict\n",
    "                    ref_pubmeddata = ref_data['PubmedData']['ArticleIdList']['ArticleId']\n",
    "                    pmid = ref_medline_citation['PMID']['content']\n",
    "                    journal = ref_medline_citation['Article']['Journal']['Title']\n",
    "                    title = ref_medline_citation['Article']['ArticleTitle']\n",
    "                    authors = ref_medline_citation['Article']['AuthorList']['Author']\n",
    "                    try:\n",
    "                        pmc = [each_id['content'] for each_id in ref_pubmeddata if each_id['IdType']=='pmc']\n",
    "                        doi = [each_id['content'] for each_id in ref_pubmeddata if each_id['IdType']=='doi']\n",
    "                    except:\n",
    "                        pass\n",
    "                    names = []\n",
    "                    if not isinstance(authors,list):\n",
    "                        authors=[authors,]\n",
    "                    for item in authors:\n",
    "                        names.append(item.get('LastName',\"\")+ ' '+ item.get('ForeName',\"\") + ' ' + item.get('Initials',\"\"))\n",
    "                    mesh = []\n",
    "                    try:\n",
    "                        headings = ref_medline_citation['MeshHeadingList']['MeshHeading']\n",
    "                        for item2 in headings:\n",
    "                            mesh.append(item2['DescriptorName']['content'])\n",
    "                    except KeyError:\n",
    "                        mesh = \"NONE\"\n",
    "                    try:\n",
    "                        abstract = ref_medline_citation['Article']['Abstract']['AbstractText']\n",
    "                    except KeyError:\n",
    "                        abstract = \"NONE\"\n",
    "                    try:\n",
    "                        month = ref_medline_citation['Article']['ArticleDate']['Month']\n",
    "                        day = ref_medline_citation['Article']['ArticleDate']['Day']\n",
    "                        year = ref_medline_citation['Article']['ArticleDate']['Year']\n",
    "                        date =  month,day,year\n",
    "                    except KeyError:\n",
    "                        date = \"NONE\"\n",
    "                    if pmid in new_abstracts:\n",
    "                         new_abstracts[pmid]['Search Terms'].append(term)\n",
    "                    else:\n",
    "                         new_abstracts[pmid] = {'Search Terms': [term], 'DOI': doi, 'PMC': pmc,'Date': date, 'Authors':names, 'Journal':journal, 'Title':title, 'Abstract':abstract,'MESH':mesh, 'Methods': [], 'Results':[], 'fit_main_keywords':[]}\n",
    "            except (KeyError, TypeError):\n",
    "                continue\n",
    "        except urllib.error.HTTPError:\n",
    "            time.sleep(10)\n",
    "    return new_abstracts"
   ]
  },
  {
   "cell_type": "code",
   "execution_count": null,
   "metadata": {},
   "outputs": [],
   "source": []
  }
 ],
 "metadata": {
  "kernelspec": {
   "display_name": "Python 3.9.13 ('biko')",
   "language": "python",
   "name": "python3"
  },
  "language_info": {
   "codemirror_mode": {
    "name": "ipython",
    "version": 3
   },
   "file_extension": ".py",
   "mimetype": "text/x-python",
   "name": "python",
   "nbconvert_exporter": "python",
   "pygments_lexer": "ipython3",
   "version": "3.9.13"
  },
  "orig_nbformat": 4,
  "vscode": {
   "interpreter": {
    "hash": "c9deeba02294edd094f0f0419a0235a571c50eebd8a82690be252ca52f2f8cc1"
   }
  }
 },
 "nbformat": 4,
 "nbformat_minor": 2
}
