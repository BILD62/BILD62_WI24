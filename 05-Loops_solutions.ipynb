{
 "cells": [
  {
   "cell_type": "markdown",
   "metadata": {
    "slideshow": {
     "slide_type": "slide"
    }
   },
   "source": [
    "# Loops\n",
    "\n",
    "In this notebook, we'll learn about a very useful programming skill: writing a loop. We'll use these loops to do several computations and changes with our DNA string."
   ]
  },
  {
   "cell_type": "markdown",
   "metadata": {
    "slideshow": {
     "slide_type": "slide"
    }
   },
   "source": [
    "## At the end of this notebook, you'll be able to:\n",
    "* [Write a `for` loop to iterate over elements in an object](#for)\n",
    "* Use a `counter` in a loop\n",
    "* [Use a `for` loop to count GC content and CCAAT boxes in a DNA string](#GCcontent)\n",
    "* [Write `while` loops and implement `continue` and `break`](#while)\n",
    "\n",
    "<hr>"
   ]
  },
  {
   "cell_type": "markdown",
   "metadata": {
    "slideshow": {
     "slide_type": "slide"
    }
   },
   "source": [
    "### Reminder: Membership Operators\n",
    "Before, we saw that we can use `in` and `not in` to compare membership. These operators return booleans. Membership operators are used to check whether a value or variable is found in a sequence. We can use this to check for membership in strings, as well as in lists.\n",
    "\n",
    "Today, we'll use this special keyword `in` as an operator in our loops as well."
   ]
  },
  {
   "cell_type": "code",
   "execution_count": 1,
   "metadata": {
    "scrolled": false,
    "slideshow": {
     "slide_type": "fragment"
    }
   },
   "outputs": [
    {
     "data": {
      "text/plain": [
       "True"
      ]
     },
     "execution_count": 1,
     "metadata": {},
     "output_type": "execute_result"
    }
   ],
   "source": [
    "# Check for one nucleotide using \"in\"\n",
    "my_dna = 'ATGCAA'\n",
    "\n",
    "'GCA' in my_dna"
   ]
  },
  {
   "cell_type": "markdown",
   "metadata": {},
   "source": [
    "While this is a useful way to check for one nucleotide, it doesn't help us *count* how many there are. We can also use many different if/elif/else statements, but this can easily get cumbersome with long strings of DNA. \n",
    "\n",
    "To count GC content (or do many other repetitive tasks), we'll turn to **loops**."
   ]
  },
  {
   "cell_type": "markdown",
   "metadata": {
    "slideshow": {
     "slide_type": "slide"
    }
   },
   "source": [
    "<a id=\"For\"></a>\n",
    "\n",
    "## For loops\n",
    "\n",
    "Loops can be written in multiple ways. First, we'll tackle **for loops**.\n",
    "\n",
    "The `for` loop iterates over the elements of the supplied object (a list, range, or a string, e.g.), and executes the containing block once for each element. It has the basic structure below:\n",
    "\n",
    "```\n",
    "for element in object:\n",
    "    (do something)\n",
    " ```\n",
    "\n",
    "We can use `for` loops for various types of objects. Let's look at each of these in turn.\n",
    "\n",
    "### Looping through a string"
   ]
  },
  {
   "cell_type": "code",
   "execution_count": 2,
   "metadata": {
    "scrolled": true,
    "slideshow": {
     "slide_type": "fragment"
    }
   },
   "outputs": [
    {
     "name": "stdout",
     "output_type": "stream",
     "text": [
      "h\n",
      "e\n",
      "l\n",
      "l\n",
      "o\n"
     ]
    }
   ],
   "source": [
    "# Looping through a string\n",
    "for character in 'hello':\n",
    "    print(character)"
   ]
  },
  {
   "cell_type": "markdown",
   "metadata": {},
   "source": [
    "### Looping through a list\n",
    "Looping through a list works similarly. \n",
    "\n",
    "<div class=\"alert alert-success\"><b>Task:</b> Use a for loop to print out the squares of the numbers 1 to 10 (including 10). </a>.</div>"
   ]
  },
  {
   "cell_type": "code",
   "execution_count": 4,
   "metadata": {},
   "outputs": [
    {
     "name": "stdout",
     "output_type": "stream",
     "text": [
      "1\n",
      "4\n",
      "9\n",
      "16\n",
      "25\n",
      "36\n",
      "49\n",
      "64\n",
      "81\n",
      "100\n"
     ]
    }
   ],
   "source": [
    "# Create a list\n",
    "my_list = [1,2,3,4,5,6,7,8,9,10]\n",
    "\n",
    "# Loop through it\n",
    "\n",
    "for value in my_list:\n",
    "    print(value**2)\n"
   ]
  },
  {
   "cell_type": "markdown",
   "metadata": {
    "slideshow": {
     "slide_type": "slide"
    }
   },
   "source": [
    "### Looping with Range\n",
    "Doing the task above isn't so bad with just 1 to 10, but what if you wanted to loop through all of the numbers until 100? Or a million?\n",
    "\n",
    "Sometimes it is useful to designate a range that we want to work with. We'll use the built-in `range()` function for that.\n",
    "\n",
    "A few notes about `range()`:\n",
    "   * When given one argument, `range()` produces a range of numbers starting with zero up to (but not including) the number you give it.\n",
    "   * You can specify a starting number by giving it two arguments, e.g. `range(1,10)`. \n",
    "   * Technically, `range()` produces a range object, not quite a list. If you want to make it a list, you have to cast it using `list()`."
   ]
  },
  {
   "cell_type": "code",
   "execution_count": 8,
   "metadata": {
    "scrolled": true,
    "slideshow": {
     "slide_type": "fragment"
    }
   },
   "outputs": [
    {
     "data": {
      "text/plain": [
       "[1, 4, 9, 16, 25, 36, 49, 64, 81, 100]"
      ]
     },
     "execution_count": 8,
     "metadata": {},
     "output_type": "execute_result"
    }
   ],
   "source": [
    "# Try out range\n",
    "new_list = []\n",
    "\n",
    "for x in range(1,11):\n",
    "    \n",
    "    squared_x = x**2\n",
    "    \n",
    "    new_list.append(squared_x)\n",
    "    \n",
    "new_list"
   ]
  },
  {
   "cell_type": "markdown",
   "metadata": {},
   "source": [
    "Sometimes it is also useful to have access to the **indices** of the values when iterating over a **range** of numbers. We can use the `enumerate` function for this:"
   ]
  },
  {
   "cell_type": "code",
   "execution_count": 10,
   "metadata": {},
   "outputs": [
    {
     "name": "stdout",
     "output_type": "stream",
     "text": [
      "0 -3\n",
      "1 -2\n",
      "2 -1\n",
      "3 0\n",
      "4 1\n",
      "5 2\n"
     ]
    }
   ],
   "source": [
    "for idx, x in enumerate(range(-3,3)):\n",
    "    print(idx, x)"
   ]
  },
  {
   "cell_type": "markdown",
   "metadata": {},
   "source": [
    "<div class=\"alert alert-success\"><b>Task:</b> Write the Python code for <a href=\"https://i.redd.it/q9qc6bjzqr741.png\">the image below</a>.</div>\n",
    "\n",
    "![](https://i.redd.it/q9qc6bjzqr741.png)"
   ]
  },
  {
   "cell_type": "code",
   "execution_count": 54,
   "metadata": {},
   "outputs": [
    {
     "name": "stdout",
     "output_type": "stream",
     "text": [
      "i = 0 I'm in.\n",
      "i = 1 I'm in.\n",
      "i = 2 I'm in.\n",
      "i = 3 I'm out.\n"
     ]
    }
   ],
   "source": [
    "for i in range(4):\n",
    "    \n",
    "    if i < 3:\n",
    "        print('i =',i,\"I'm in.\")\n",
    "        \n",
    "    else:\n",
    "        print('i =',i,\"I'm out.\")  "
   ]
  },
  {
   "cell_type": "markdown",
   "metadata": {},
   "source": [
    "**Test your knowledge!** How many values will be printed from this for loop before it *first* prints “The tea is too hot!”?"
   ]
  },
  {
   "cell_type": "code",
   "execution_count": 16,
   "metadata": {},
   "outputs": [
    {
     "name": "stdout",
     "output_type": "stream",
     "text": [
      "114\n",
      "115\n",
      "116\n",
      "The tea is too hot!\n",
      "117\n",
      "The tea is too hot!\n",
      "118\n",
      "The tea is too hot!\n"
     ]
    }
   ],
   "source": [
    "temperatures = [114, 115, 116, 117, 118]\n",
    "\n",
    "for temp in temperatures: \n",
    "    print(temp)\n",
    "    \n",
    "    if temp > 115:\n",
    "        print('The tea is too hot!')"
   ]
  },
  {
   "cell_type": "markdown",
   "metadata": {},
   "source": [
    "<div class=\"alert alert-success\"><b>Task</b>: Package the code above up into a function <code>check_temp</code> that takes <code>temp_range</code> and <code>current_temp</code> as an arguments. `check_temp()` should check to see if the <code>current_temp</code>` is within the <code>temp_range</code>. If it is too hot, it should say 'The tea is too hot!'.  \n",
    "    </div>"
   ]
  },
  {
   "cell_type": "code",
   "execution_count": 52,
   "metadata": {},
   "outputs": [],
   "source": [
    "# Write your code here\n",
    "# NOTE: These are two ways to tackle what is a bit of a poorly-defined prompt.\n",
    "\n",
    "# FUNCTION 1\n",
    "\n",
    "def check_temp(temp_range,current_temp):\n",
    "    \n",
    "    for temp in temp_range: \n",
    "        \n",
    "        if current_temp > temp:\n",
    "            \n",
    "            print('The tea is too hot!')\n",
    "        \n",
    "        else:\n",
    "        \n",
    "            print('The tea is fine.')"
   ]
  },
  {
   "cell_type": "code",
   "execution_count": null,
   "metadata": {},
   "outputs": [],
   "source": [
    "# FUNCTION 2\n",
    "\n",
    "def check_temp(temp_range,current_temp):\n",
    "    \n",
    "    temp_range.sort() # sort the range\n",
    "    \n",
    "    highest_temp = temp_range[-1] # take the highest value\n",
    "    \n",
    "    if current_temp > highest_temp: # check if the current is > highest \n",
    "        \n",
    "        print('The tea is too hot!') \n",
    "        \n",
    "    else:\n",
    "        \n",
    "        print('The tea is fine.')"
   ]
  },
  {
   "cell_type": "code",
   "execution_count": 38,
   "metadata": {},
   "outputs": [
    {
     "name": "stdout",
     "output_type": "stream",
     "text": [
      "The tea is fine.\n"
     ]
    }
   ],
   "source": [
    "check_temp([114, 115, 116, 117, 118], 115.5)"
   ]
  },
  {
   "cell_type": "markdown",
   "metadata": {
    "slideshow": {
     "slide_type": "slide"
    }
   },
   "source": [
    "### Looping over Dictionaries\n",
    "We can also use `for` loops to iterate over key-value pairs of a dictionary. What do you think the cell below will output?"
   ]
  },
  {
   "cell_type": "code",
   "execution_count": 39,
   "metadata": {
    "scrolled": true,
    "slideshow": {
     "slide_type": "fragment"
    }
   },
   "outputs": [
    {
     "name": "stdout",
     "output_type": "stream",
     "text": [
      "parameter1 = 1.0\n",
      "parameter2 = 2.0\n",
      "parameter3 = 3.0\n"
     ]
    }
   ],
   "source": [
    "params = {\"parameter1\" : 1.0,\n",
    "          \"parameter2\" : 2.0,\n",
    "          \"parameter3\" : 3.0,}\n",
    "\n",
    "for key, value in params.items():\n",
    "    print(key + \" = \" + str(value))"
   ]
  },
  {
   "cell_type": "markdown",
   "metadata": {
    "slideshow": {
     "slide_type": "slide"
    }
   },
   "source": [
    "### List Comprehensions\n",
    "Finally, list comprehensions are a very compact way to create lists using a `for` loop. **It is not neccessary to use these**, and they're not very intuitive to look at, but they do help condense lines of code."
   ]
  },
  {
   "cell_type": "code",
   "execution_count": 40,
   "metadata": {
    "scrolled": true,
    "slideshow": {
     "slide_type": "fragment"
    }
   },
   "outputs": [
    {
     "name": "stdout",
     "output_type": "stream",
     "text": [
      "[0, 1, 4, 9, 16]\n"
     ]
    }
   ],
   "source": [
    "# Create a list of values where x is squared for 0, 1, 2, 3, and 4.\n",
    "\n",
    "list_1 = [x**2 for x in range(0,5)]\n",
    "\n",
    "print(list_1)"
   ]
  },
  {
   "cell_type": "markdown",
   "metadata": {},
   "source": [
    "<a id=\"GCcontent\"></a>\n",
    "\n",
    "## Computing GC content with a loop\n",
    "\n",
    "Let's get back to our question of computing GC content. We can write a simple function to loop over a string, as follows:"
   ]
  },
  {
   "cell_type": "code",
   "execution_count": 41,
   "metadata": {},
   "outputs": [],
   "source": [
    "# Define function\n",
    "def length(my_string):                     # Define the function \n",
    "    '''Computes length of input string'''  # Include a doc string\n",
    "    counter = 0                            # Initialize the counter\n",
    "    for character in my_string:            # First, assign the item in my_string to \"character\"\n",
    "        print(character)                   # Then, print character\n",
    "        counter = counter+1                # Then, increment the counter and go back to next item in my_string.\n",
    "    return counter                         # Return the final counter, once there are no more items in my_string"
   ]
  },
  {
   "cell_type": "code",
   "execution_count": 42,
   "metadata": {},
   "outputs": [
    {
     "name": "stdout",
     "output_type": "stream",
     "text": [
      "G\n",
      "G\n",
      "C\n",
      "A\n",
      "T\n"
     ]
    },
    {
     "data": {
      "text/plain": [
       "5"
      ]
     },
     "execution_count": 42,
     "metadata": {},
     "output_type": "execute_result"
    }
   ],
   "source": [
    "# Run function\n",
    "length('GGCAT')"
   ]
  },
  {
   "cell_type": "markdown",
   "metadata": {},
   "source": [
    "This function counts the length of the string, but doesn't count the GC content."
   ]
  },
  {
   "cell_type": "markdown",
   "metadata": {},
   "source": [
    "<div class=\"alert alert-success\"><b>Task</b>: Let's put it all together! Write a function (<code>computeGCcontent</code>) that can compute the GC content of a DNA string, regardless of the length.</div>"
   ]
  },
  {
   "cell_type": "code",
   "execution_count": 9,
   "metadata": {},
   "outputs": [],
   "source": [
    "# Write your function here\n",
    "\n",
    "def computeGCcontent(DNA):\n",
    "    '''counts GC content for a DNA string of ANY LENGTH!!!'''    \n",
    "\n",
    "    counter = 0 # Initialize counter\n",
    "    \n",
    "    for character in DNA:\n",
    "        \n",
    "        if character == 'G' or character == 'C':\n",
    "            \n",
    "            counter = counter + 1            \n",
    "            \n",
    "    return counter/len(DNA)"
   ]
  },
  {
   "cell_type": "code",
   "execution_count": 30,
   "metadata": {},
   "outputs": [
    {
     "name": "stdout",
     "output_type": "stream",
     "text": [
      "GCCCGGATATATCCGAA\n",
      "GCCCAATTTAAAGGCCC\n",
      "GCATATATAATATAGCG\n",
      "[0.5294117647058824, 0.5294117647058824, 0.29411764705882354]\n"
     ]
    }
   ],
   "source": [
    "# Let's use the function above in a for loop!\n",
    "\n",
    "DNA_1 = 'GCCCGGATATATCCGAA'\n",
    "DNA_2 = 'GCCCAATTTAAAGGCCC'\n",
    "DNA_3 = 'GCATATATAATATAGCG'\n",
    "\n",
    "GC_content = []\n",
    "\n",
    "for DNA in [DNA_1,DNA_2,DNA_3]:\n",
    "    \n",
    "    print(DNA)\n",
    "    this_GC_content = computeGCcontent(DNA) # compute GC content for this DNA\n",
    "    GC_content.append(this_GC_content)      # append current GC content to list\n",
    "\n",
    "print(GC_content)"
   ]
  },
  {
   "cell_type": "markdown",
   "metadata": {},
   "source": [
    "## Converting single items in a string\n",
    "We can also use `for` loops to convert items in the string. You may recall that RNA has the same nucleotides as DNA except it uses uracil (U) instead of thymine (T). So, the DNA string 'TTACG' would be 'UUACG' in RNA. "
   ]
  },
  {
   "cell_type": "markdown",
   "metadata": {},
   "source": [
    "<div class=\"alert alert-success\"><b>Task</b>: Write a function called <code>DNAtoRNA</code> that takes in a string <code>DNA</code> and it converts it to RNA. A skeleton of this function is already below.</div>"
   ]
  },
  {
   "cell_type": "code",
   "execution_count": 11,
   "metadata": {},
   "outputs": [],
   "source": [
    "def DNAtoRNA(DNA):\n",
    "    RNA = '' # Create an empty RNA string\n",
    "    \n",
    "    for nuc in DNA:\n",
    "        if nuc == 'T':\n",
    "            RNA = RNA + 'U'\n",
    "        else:\n",
    "            RNA = RNA + nuc\n",
    "    \n",
    "    return RNA"
   ]
  },
  {
   "cell_type": "code",
   "execution_count": 12,
   "metadata": {},
   "outputs": [
    {
     "data": {
      "text/plain": [
       "'GCUACCUUAAUAC'"
      ]
     },
     "execution_count": 12,
     "metadata": {},
     "output_type": "execute_result"
    }
   ],
   "source": [
    "DNAtoRNA('GCTACCTTAATAC')"
   ]
  },
  {
   "cell_type": "markdown",
   "metadata": {},
   "source": [
    "As it turns out, there's a useful **method** of strings that does this exact same thing -- in one line of code! \n",
    "<div class=\"alert alert-success\"><b>Task</b>: Do a Google search (or use ChatGPT) to figure out how to replace specific items in a string, and try it below. Hint: search \"replace items in string Python\".</div>"
   ]
  },
  {
   "cell_type": "code",
   "execution_count": 13,
   "metadata": {},
   "outputs": [
    {
     "data": {
      "text/plain": [
       "'GCUACCUUAAUAC'"
      ]
     },
     "execution_count": 13,
     "metadata": {},
     "output_type": "execute_result"
    }
   ],
   "source": [
    "# Test the string method here\n",
    "DNA = 'GCTACCTTAATAC'\n",
    "\n",
    "DNA.replace('T','U')"
   ]
  },
  {
   "cell_type": "markdown",
   "metadata": {},
   "source": [
    "## Finding CCAAT boxes\n",
    "\n",
    "For an extension of our GC content task, here we'll count the # of “CAT” boxes (CCAAT) in a string of DNA. The “CAT” box generally appears near the spot where transcription begins, so it's a useful thing to identify.\n",
    "\n",
    "Above, we wrote a function that will loop over a string, but if we need to look at multiple letters at a time, what we *really* need is one that will loop over the indices in that string."
   ]
  },
  {
   "cell_type": "code",
   "execution_count": 2,
   "metadata": {},
   "outputs": [
    {
     "name": "stdout",
     "output_type": "stream",
     "text": [
      "3\n"
     ]
    }
   ],
   "source": [
    "DNA = 'CCAATCCAATCCAAT'\n",
    "\n",
    "counter = 0\n",
    "    \n",
    "for index in range(len(DNA)):\n",
    "        \n",
    "    this_DNA = DNA[index:index+5]\n",
    "        \n",
    "    #print(this_DNA)\n",
    "        \n",
    "    if this_DNA == 'CCAAT':\n",
    "        #print(index)\n",
    "        counter = counter + 1    \n",
    "\n",
    "print(counter)"
   ]
  },
  {
   "cell_type": "code",
   "execution_count": 48,
   "metadata": {},
   "outputs": [],
   "source": [
    "# First draft of code\n",
    "\n",
    "def countCCAAT(DNA):\n",
    "    \n",
    "    counter = 0\n",
    "    \n",
    "    for index in range(len(DNA)):\n",
    "        \n",
    "        this_DNA = DNA[index:index+5]\n",
    "        \n",
    "        #print(this_DNA)\n",
    "        \n",
    "        if this_DNA == 'CCAAT':\n",
    "            #print(index)\n",
    "            counter = counter + 1\n",
    "        \n",
    "    return counter"
   ]
  },
  {
   "cell_type": "code",
   "execution_count": 49,
   "metadata": {
    "scrolled": true
   },
   "outputs": [
    {
     "data": {
      "text/plain": [
       "3"
      ]
     },
     "execution_count": 49,
     "metadata": {},
     "output_type": "execute_result"
    }
   ],
   "source": [
    "countCCAAT('CCAATCCAATCCAAT')"
   ]
  },
  {
   "cell_type": "markdown",
   "metadata": {},
   "source": [
    "<div class=\"alert alert-success\"><b>Task</b>: Modify the skeleton above by using the index to slice our DNA. For example, the first slice of 5 nucleotides would be <code>DNA[0:5]</code>, the second would be<code>DNA[1:6]</code>. We can do this programatically!</b>"
   ]
  },
  {
   "cell_type": "markdown",
   "metadata": {},
   "source": [
    "### Functions can call other functions!\n",
    "\n",
    "What if instead of one DNA string, we'd like to count the CCAAT boxes for multiple DNA strings? We'd essentially like to run our `countCCAAT` function multiple times. You can see how we would implement this below. In this case, it becomes a **helper** function. When `countCCAAT` is called, Python passes it the current DNA string and waits for it to return something."
   ]
  },
  {
   "cell_type": "code",
   "execution_count": 50,
   "metadata": {},
   "outputs": [],
   "source": [
    "def multicountCCAAT(DNA_list):\n",
    "    '''Prints the # of occurrences of CCAAT in each string in the given DNA list'''\n",
    "    \n",
    "    for DNA in DNA_list:\n",
    "        print('CCAAT in this DNA:',countCCAAT(DNA))"
   ]
  },
  {
   "cell_type": "code",
   "execution_count": 51,
   "metadata": {},
   "outputs": [
    {
     "name": "stdout",
     "output_type": "stream",
     "text": [
      "CCAAT in this DNA: 0\n",
      "CCAAT in this DNA: 1\n",
      "CCAAT in this DNA: 0\n"
     ]
    }
   ],
   "source": [
    "# Test our function\n",
    "\n",
    "multicountCCAAT([DNA_1,DNA_2,DNA_3])"
   ]
  },
  {
   "cell_type": "markdown",
   "metadata": {},
   "source": [
    "Another way to implement this idea would be with **nested loops**."
   ]
  },
  {
   "cell_type": "code",
   "execution_count": 39,
   "metadata": {},
   "outputs": [],
   "source": [
    "def multicountCCAAT_nested(DNA_list):\n",
    "    '''Prints the # of occurrences of CCAAT in each string in the given DNA list'''\n",
    "    \n",
    "    for DNA in DNA_list:                        # The outer loop works through each DNA string\n",
    "        counter = 0                             # For each string, reset the counter\n",
    "        for index in range(len(DNA)):           # For each item in the string\n",
    "            if DNA[index:index+5] == 'CCAAT':   # Check whether there is a CCAAT box\n",
    "                counter = counter +1            # If so, implement the counter\n",
    "        print(counter)                          # When you're done with that DNA string, print the counter"
   ]
  },
  {
   "cell_type": "code",
   "execution_count": 40,
   "metadata": {},
   "outputs": [
    {
     "name": "stdout",
     "output_type": "stream",
     "text": [
      "0\n",
      "1\n",
      "0\n"
     ]
    }
   ],
   "source": [
    "# Test our nested function\n",
    "multicountCCAAT_nested([DNA_1,DNA_2,DNA_3])"
   ]
  },
  {
   "cell_type": "markdown",
   "metadata": {},
   "source": [
    "Although the nested function works too, it is not as **modular** as the first one. **Modular** design is where once function calls another function for help, and is generally a good practice when building more and more complex programs. "
   ]
  },
  {
   "cell_type": "markdown",
   "metadata": {
    "slideshow": {
     "slide_type": "slide"
    }
   },
   "source": [
    "<a id=\"while\"></a>\n",
    "\n",
    "## Other kinds of loops & related operators\n",
    "\n",
    "### While loops\n",
    "The operator `while` lets you continue to run a loop as long as something is true. \n",
    "\n",
    "While loops always have the structure\n",
    "\n",
    "```\n",
    "while condition:\n",
    "    do something\n",
    "```"
   ]
  },
  {
   "cell_type": "code",
   "execution_count": 41,
   "metadata": {
    "scrolled": true,
    "slideshow": {
     "slide_type": "slide"
    }
   },
   "outputs": [
    {
     "name": "stdout",
     "output_type": "stream",
     "text": [
      "still working\n",
      "still working\n",
      "still working\n",
      "still working\n",
      "still working\n",
      "done\n"
     ]
    }
   ],
   "source": [
    "message = 'still working'\n",
    "counter = 0\n",
    "\n",
    "while counter < 5:\n",
    "    print(message)\n",
    "    \n",
    "    counter = counter + 1\n",
    "    \n",
    "print(\"done\")"
   ]
  },
  {
   "cell_type": "code",
   "execution_count": 42,
   "metadata": {},
   "outputs": [
    {
     "name": "stdout",
     "output_type": "stream",
     "text": [
      "-5\n",
      "-4\n",
      "-3\n",
      "-2\n",
      "-1\n"
     ]
    }
   ],
   "source": [
    "# Another example\n",
    "\n",
    "number = -5\n",
    "\n",
    "while number < 0:\n",
    "    print(number)\n",
    "    number = number + 1  # must have code to make condition evaluate as False at some point"
   ]
  },
  {
   "cell_type": "markdown",
   "metadata": {},
   "source": [
    "**Test your knowledge!** How many temperature values will be output from this `while` loop before “The tea is cool enough.” is printed?"
   ]
  },
  {
   "cell_type": "code",
   "execution_count": 43,
   "metadata": {},
   "outputs": [
    {
     "name": "stdout",
     "output_type": "stream",
     "text": [
      "115\n",
      "114\n",
      "113\n",
      "The tea is cool enough.\n"
     ]
    }
   ],
   "source": [
    "temperature = 115\n",
    " \n",
    "while temperature > 112: \n",
    "    print(temperature)\n",
    "    temperature = temperature - 1\n",
    "    \n",
    "print('The tea is cool enough.')"
   ]
  },
  {
   "cell_type": "markdown",
   "metadata": {
    "slideshow": {
     "slide_type": "slide"
    }
   },
   "source": [
    "### Continue operator\n",
    "<code>continue</code> is a special operator to jump ahead to the next iteration of a loop."
   ]
  },
  {
   "cell_type": "code",
   "execution_count": 45,
   "metadata": {
    "scrolled": true,
    "slideshow": {
     "slide_type": "fragment"
    }
   },
   "outputs": [
    {
     "name": "stdout",
     "output_type": "stream",
     "text": [
      "0\n",
      "1\n",
      "3\n"
     ]
    }
   ],
   "source": [
    "lst = [0, 1, 2, 3]\n",
    "\n",
    "for item in lst:\n",
    "    \n",
    "    if item == 2:\n",
    "        continue\n",
    "    \n",
    "    print(item)"
   ]
  },
  {
   "cell_type": "code",
   "execution_count": 46,
   "metadata": {},
   "outputs": [
    {
     "name": "stdout",
     "output_type": "stream",
     "text": [
      "0\n",
      "1\n",
      "3\n"
     ]
    }
   ],
   "source": [
    "lst = [0, 1, 2, 3]\n",
    "\n",
    "for item in lst:\n",
    "    \n",
    "    if item != 2:\n",
    "        print(item)"
   ]
  },
  {
   "cell_type": "markdown",
   "metadata": {
    "slideshow": {
     "slide_type": "slide"
    }
   },
   "source": [
    "### Break operator\n",
    "`break` is a special operator to exit a loop. It's useful when you'd like to stop running a loop once you've hit a certain threshold or value."
   ]
  },
  {
   "cell_type": "code",
   "execution_count": 47,
   "metadata": {
    "scrolled": true,
    "slideshow": {
     "slide_type": "fragment"
    }
   },
   "outputs": [
    {
     "name": "stdout",
     "output_type": "stream",
     "text": [
      "0\n",
      "1\n"
     ]
    }
   ],
   "source": [
    "lst = [0, 1, 2, 3]\n",
    "\n",
    "for item in lst:\n",
    "        \n",
    "    if item == 2:    \n",
    "        break\n",
    "    \n",
    "    print(item)"
   ]
  },
  {
   "cell_type": "markdown",
   "metadata": {
    "slideshow": {
     "slide_type": "slide"
    }
   },
   "source": [
    "<img src=\"https://media2.giphy.com/media/kKLoC2AdoTftSgzR0O/source.gif\" alt=\"russiandollgif\" width=\"200\" height=\"200\">\n",
    "\n",
    "## Interrupting a kernel\n",
    "Writing loops is sometimes tricky, and one error in your code might leave you trapped in an infinite loop.\n"
   ]
  },
  {
   "cell_type": "code",
   "execution_count": null,
   "metadata": {
    "scrolled": false,
    "slideshow": {
     "slide_type": "fragment"
    }
   },
   "outputs": [],
   "source": [
    "a = 1\n",
    "\n",
    "while a == 1:\n",
    "    print('AAAHHHH')"
   ]
  },
  {
   "cell_type": "markdown",
   "metadata": {
    "slideshow": {
     "slide_type": "slide"
    }
   },
   "source": [
    "_What happens if you get stuck in a forever loop and can't escape?_\n",
    "\n",
    "If there is a star next to the `In[ ]*:` at left, that means your cell is running. Similarly, if the circle next to Python3 is filled, the Kernel is busy.\n",
    "\n",
    "Use <b>Kernel > Interrupt</b> to stop the notebook. You can also use <b>Cell > Current Outputs > Clear</b> to clear your slate. \n",
    "\n",
    "It can be useful to clear and re-launch the kernel. You can do this from the 'kernel' drop down menu, at the top, optionally also clearing all ouputs. Note that this will erase any variables that are stored in memory. "
   ]
  },
  {
   "cell_type": "markdown",
   "metadata": {},
   "source": [
    "<hr>\n",
    "\n",
    "## Additional loops practice\n",
    "\n",
    "1. Write a function `count_odd()` containing a loop that will **add** all the odd numbers for the input range together.\n",
    "\n",
    "2. Write a function `count_vowels()` containing a loop that will loop through all the letters in `my_name` (the input parameter) and count all the vowels in your name.\n",
    "\n",
    "3. Write a function `create_dictionary` that takes two input lists `lst_1` and `lst_2`. Inside the function, join the two lists to form a dictionary `joined_dictionary` where the first element in `lst_1` is the first key in `joined_dictionary` and the the first element in `lst_2` is the first value in joined_dictionary and so on and so forth. Then return `joined_dictionary` as the output."
   ]
  },
  {
   "cell_type": "markdown",
   "metadata": {
    "slideshow": {
     "slide_type": "skip"
    }
   },
   "source": [
    "<hr>\n",
    "\n",
    "## About this notebook\n",
    "This notebook is largely inspired by [*Computing for Biologists*](https://www.cambridge.org/highereducation/books/computing-for-biologists/5B08EEEE2AE8A602113A8F225E89F5FD#overview) by Libeskind-Hadas & Bush as well as [UCSD COGS18 Materials](https://cogs18.github.io/materials/09-Loops.html), created by Tom Donoghue & Shannon Ellis."
   ]
  }
 ],
 "metadata": {
  "kernelspec": {
   "display_name": "Python 3",
   "language": "python",
   "name": "python3"
  },
  "language_info": {
   "codemirror_mode": {
    "name": "ipython",
    "version": 3
   },
   "file_extension": ".py",
   "mimetype": "text/x-python",
   "name": "python",
   "nbconvert_exporter": "python",
   "pygments_lexer": "ipython3",
   "version": "3.7.3"
  },
  "rise": {
   "theme": "serif"
  }
 },
 "nbformat": 4,
 "nbformat_minor": 2
}
